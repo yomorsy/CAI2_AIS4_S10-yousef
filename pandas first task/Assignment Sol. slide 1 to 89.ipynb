{
 "cells": [
  {
   "cell_type": "code",
   "execution_count": 2,
   "id": "d0a8e59f-3777-4763-acab-d3c6259cf85e",
   "metadata": {},
   "outputs": [
    {
     "name": "stdout",
     "output_type": "stream",
     "text": [
      "0    10\n",
      "1    20\n",
      "2    30\n",
      "3    40\n",
      "4    50\n",
      "dtype: int64\n"
     ]
    }
   ],
   "source": [
    "#How to make a one-dimensional labeled array its name is Series\n",
    "import pandas as pd\n",
    "\n",
    "# Creating a Series from a list\n",
    "series = pd.Series([10, 20, 30, 40, 50])\n",
    "print(series)"
   ]
  },
  {
   "cell_type": "code",
   "execution_count": 2,
   "id": "446b0a1a-0782-48cd-bc71-30472cd293fa",
   "metadata": {},
   "outputs": [],
   "source": [
    "#**data\n"
   ]
  },
  {
   "cell_type": "code",
   "execution_count": 3,
   "id": "92def1a1-bd2a-4941-8253-6e67af5cfe4e",
   "metadata": {},
   "outputs": [
    {
     "name": "stdout",
     "output_type": "stream",
     "text": [
      "   apples  oranges\n",
      "0       3        0\n",
      "1       2        3\n",
      "2       0        7\n",
      "3       1        2\n"
     ]
    }
   ],
   "source": [
    "#How to make a two-dimensional  labeled array its name is Dataframe\n",
    "data = {\n",
    "    'apples': [3, 2, 0, 1],\n",
    "    'oranges': [0, 3, 7, 2]\n",
    "}\n",
    "\n",
    "df = pd.DataFrame(data)\n",
    "print(df)"
   ]
  },
  {
   "cell_type": "code",
   "execution_count": 34,
   "id": "c2d3b31d-64f0-4405-bf9c-d0b8c9d0c266",
   "metadata": {},
   "outputs": [
    {
     "name": "stdout",
     "output_type": "stream",
     "text": [
      "      Name  Age         City\n",
      "0    Alice   25     New York\n",
      "1      Bob   30  Los Angeles\n",
      "2  Charlie   35      Chicago\n"
     ]
    }
   ],
   "source": [
    "data = {'Name':['Alice','Bob','Charlie'],\n",
    "        'Age':[25,30,35],\n",
    "        'City':['New York','Los Angeles','Chicago']}\n",
    "df = pd.DataFrame(data)\n",
    "print(df)"
   ]
  },
  {
   "cell_type": "code",
   "execution_count": 35,
   "id": "37b07b13-1eac-4be9-9202-fa5f58fa47be",
   "metadata": {},
   "outputs": [
    {
     "data": {
      "text/html": [
       "<div>\n",
       "<style scoped>\n",
       "    .dataframe tbody tr th:only-of-type {\n",
       "        vertical-align: middle;\n",
       "    }\n",
       "\n",
       "    .dataframe tbody tr th {\n",
       "        vertical-align: top;\n",
       "    }\n",
       "\n",
       "    .dataframe thead th {\n",
       "        text-align: right;\n",
       "    }\n",
       "</style>\n",
       "<table border=\"1\" class=\"dataframe\">\n",
       "  <thead>\n",
       "    <tr style=\"text-align: right;\">\n",
       "      <th></th>\n",
       "      <th>Name</th>\n",
       "      <th>Age</th>\n",
       "      <th>City</th>\n",
       "    </tr>\n",
       "  </thead>\n",
       "  <tbody>\n",
       "    <tr>\n",
       "      <th>0</th>\n",
       "      <td>Alice</td>\n",
       "      <td>25</td>\n",
       "      <td>New York</td>\n",
       "    </tr>\n",
       "    <tr>\n",
       "      <th>1</th>\n",
       "      <td>Bob</td>\n",
       "      <td>30</td>\n",
       "      <td>Los Angeles</td>\n",
       "    </tr>\n",
       "    <tr>\n",
       "      <th>2</th>\n",
       "      <td>Charlie</td>\n",
       "      <td>35</td>\n",
       "      <td>Chicago</td>\n",
       "    </tr>\n",
       "  </tbody>\n",
       "</table>\n",
       "</div>"
      ],
      "text/plain": [
       "      Name  Age         City\n",
       "0    Alice   25     New York\n",
       "1      Bob   30  Los Angeles\n",
       "2  Charlie   35      Chicago"
      ]
     },
     "execution_count": 35,
     "metadata": {},
     "output_type": "execute_result"
    }
   ],
   "source": [
    "# Display the first 5 rows of the DataFrame\n",
    "df.head()"
   ]
  },
  {
   "cell_type": "code",
   "execution_count": 36,
   "id": "a28f6a67-43dd-4d28-8f7d-0b1529b1aa85",
   "metadata": {},
   "outputs": [
    {
     "name": "stdout",
     "output_type": "stream",
     "text": [
      "<class 'pandas.core.frame.DataFrame'>\n",
      "RangeIndex: 3 entries, 0 to 2\n",
      "Data columns (total 3 columns):\n",
      " #   Column  Non-Null Count  Dtype \n",
      "---  ------  --------------  ----- \n",
      " 0   Name    3 non-null      object\n",
      " 1   Age     3 non-null      int64 \n",
      " 2   City    3 non-null      object\n",
      "dtypes: int64(1), object(2)\n",
      "memory usage: 204.0+ bytes\n"
     ]
    }
   ],
   "source": [
    "# Display summary information about the DataFrame\n",
    "df.info()"
   ]
  },
  {
   "cell_type": "code",
   "execution_count": 37,
   "id": "6e8c5dfe-16c7-49af-bd05-b5e826791995",
   "metadata": {},
   "outputs": [
    {
     "data": {
      "text/html": [
       "<div>\n",
       "<style scoped>\n",
       "    .dataframe tbody tr th:only-of-type {\n",
       "        vertical-align: middle;\n",
       "    }\n",
       "\n",
       "    .dataframe tbody tr th {\n",
       "        vertical-align: top;\n",
       "    }\n",
       "\n",
       "    .dataframe thead th {\n",
       "        text-align: right;\n",
       "    }\n",
       "</style>\n",
       "<table border=\"1\" class=\"dataframe\">\n",
       "  <thead>\n",
       "    <tr style=\"text-align: right;\">\n",
       "      <th></th>\n",
       "      <th>Age</th>\n",
       "    </tr>\n",
       "  </thead>\n",
       "  <tbody>\n",
       "    <tr>\n",
       "      <th>count</th>\n",
       "      <td>3.0</td>\n",
       "    </tr>\n",
       "    <tr>\n",
       "      <th>mean</th>\n",
       "      <td>30.0</td>\n",
       "    </tr>\n",
       "    <tr>\n",
       "      <th>std</th>\n",
       "      <td>5.0</td>\n",
       "    </tr>\n",
       "    <tr>\n",
       "      <th>min</th>\n",
       "      <td>25.0</td>\n",
       "    </tr>\n",
       "    <tr>\n",
       "      <th>25%</th>\n",
       "      <td>27.5</td>\n",
       "    </tr>\n",
       "    <tr>\n",
       "      <th>50%</th>\n",
       "      <td>30.0</td>\n",
       "    </tr>\n",
       "    <tr>\n",
       "      <th>75%</th>\n",
       "      <td>32.5</td>\n",
       "    </tr>\n",
       "    <tr>\n",
       "      <th>max</th>\n",
       "      <td>35.0</td>\n",
       "    </tr>\n",
       "  </tbody>\n",
       "</table>\n",
       "</div>"
      ],
      "text/plain": [
       "        Age\n",
       "count   3.0\n",
       "mean   30.0\n",
       "std     5.0\n",
       "min    25.0\n",
       "25%    27.5\n",
       "50%    30.0\n",
       "75%    32.5\n",
       "max    35.0"
      ]
     },
     "execution_count": 37,
     "metadata": {},
     "output_type": "execute_result"
    }
   ],
   "source": [
    "# Generate descriptive statistics for numerical columns\n",
    "df.describe()"
   ]
  },
  {
   "cell_type": "markdown",
   "id": "d0ebb536-65c3-48f6-9453-47e42d076612",
   "metadata": {},
   "source": [
    "# Selecting and Filtering Data"
   ]
  },
  {
   "cell_type": "code",
   "execution_count": 38,
   "id": "86225d73-f7e3-42c7-9aff-fe025f1012ac",
   "metadata": {},
   "outputs": [
    {
     "data": {
      "text/plain": [
       "0      Alice\n",
       "1        Bob\n",
       "2    Charlie\n",
       "Name: Name, dtype: object"
      ]
     },
     "execution_count": 38,
     "metadata": {},
     "output_type": "execute_result"
    }
   ],
   "source": [
    "# Select a single column\n",
    "df['Name']"
   ]
  },
  {
   "cell_type": "code",
   "execution_count": 39,
   "id": "9a525b70-ba84-47b6-877b-502b465a27b2",
   "metadata": {},
   "outputs": [
    {
     "name": "stdout",
     "output_type": "stream",
     "text": [
      "      Name  Age     City\n",
      "2  Charlie   35  Chicago\n"
     ]
    }
   ],
   "source": [
    "# Filter rows where 'Age' > 30\n",
    "filtered_df = df[df['Age'] > 30]\n",
    "print(filtered_df)"
   ]
  },
  {
   "cell_type": "code",
   "execution_count": 40,
   "id": "ceaf25ca-acfc-4220-a722-df74fa4282b6",
   "metadata": {},
   "outputs": [
    {
     "name": "stdout",
     "output_type": "stream",
     "text": [
      "    Name         City\n",
      "0  Alice     New York\n",
      "1    Bob  Los Angeles\n"
     ]
    }
   ],
   "source": [
    "# Select specific rows and columns using loc[]\n",
    "selected_data = df.loc[[0, 1], ['Name','City']]\n",
    "print(selected_data)"
   ]
  },
  {
   "cell_type": "code",
   "execution_count": 41,
   "id": "e616a8fe-ece9-4486-83cf-f903ed5a0cc3",
   "metadata": {},
   "outputs": [
    {
     "name": "stdout",
     "output_type": "stream",
     "text": [
      "      Name  Age         City\n",
      "0    Alice   25     New York\n",
      "1      Bob   30  Los Angeles\n",
      "2  Charlie   35      Chicago\n"
     ]
    }
   ],
   "source": [
    "# Select specific rows and columns using iloc[Row_position,coulmn_position]\n",
    "selected_data = df.iloc[0:3 ,[0,1,2]]\n",
    "print(selected_data)"
   ]
  },
  {
   "cell_type": "markdown",
   "id": "8bc62fac-7d64-4131-af28-1489907e47bf",
   "metadata": {},
   "source": [
    "# Modifying Data"
   ]
  },
  {
   "cell_type": "code",
   "execution_count": 42,
   "id": "1abbb74e-b926-45bb-8f6a-a1ae9abde525",
   "metadata": {},
   "outputs": [
    {
     "name": "stdout",
     "output_type": "stream",
     "text": [
      "      Name  Age         City  Salary\n",
      "0    Alice   25     New York   60000\n",
      "1      Bob   30  Los Angeles   70000\n",
      "2  Charlie   35      Chicago   80000\n"
     ]
    }
   ],
   "source": [
    "# Add a new column 'Salary'\n",
    "df['Salary'] = [60000, 70000, 80000]\n",
    "print(df)"
   ]
  },
  {
   "cell_type": "code",
   "execution_count": 43,
   "id": "901abaf1-aed0-4dc0-9c73-727c886888b4",
   "metadata": {},
   "outputs": [
    {
     "name": "stdout",
     "output_type": "stream",
     "text": [
      "      Name  Age         City  Salary\n",
      "0    Alice   25     New York   61000\n",
      "1      Bob   30  Los Angeles   71000\n",
      "2  Charlie   35      Chicago   81000\n"
     ]
    }
   ],
   "source": [
    "# Update 'Salary' column by adding 1000 to each value\n",
    "df['Salary'] = df['Salary'] + 1000\n",
    "print(df)"
   ]
  },
  {
   "cell_type": "code",
   "execution_count": 45,
   "id": "c7d670b2-f3e9-4d85-b643-43798bf76ef8",
   "metadata": {},
   "outputs": [
    {
     "name": "stdout",
     "output_type": "stream",
     "text": [
      "      Name  Age         City  Salary\n",
      "0    Alice   35     New York   61000\n",
      "1      Bob   40  Los Angeles   71000\n",
      "2  Charlie   45      Chicago   81000\n"
     ]
    }
   ],
   "source": [
    "# Update 'age' column by adding 5 to each value\n",
    "df['Age'] = df['Age'] + 5\n",
    "print(df)"
   ]
  },
  {
   "cell_type": "code",
   "execution_count": 46,
   "id": "cb0f2f60-6785-4de6-920e-de38d813b755",
   "metadata": {},
   "outputs": [
    {
     "name": "stdout",
     "output_type": "stream",
     "text": [
      "      Name  Age         City\n",
      "0    Alice   35     New York\n",
      "1      Bob   40  Los Angeles\n",
      "2  Charlie   45      Chicago\n"
     ]
    }
   ],
   "source": [
    "# Drop the 'Salary' column\n",
    "df = df.drop('Salary', axis=1)\n",
    "print(df)"
   ]
  },
  {
   "cell_type": "code",
   "execution_count": 47,
   "id": "2e09f310-9c41-48ba-9348-169aca8ae556",
   "metadata": {},
   "outputs": [
    {
     "name": "stdout",
     "output_type": "stream",
     "text": [
      "      Name  Age      City\n",
      "0    Alice   35  New York\n",
      "2  Charlie   45   Chicago\n"
     ]
    }
   ],
   "source": [
    "# Drop the 'index 1' row\n",
    "df = df.drop(1, axis=0)\n",
    "print(df)"
   ]
  },
  {
   "cell_type": "markdown",
   "id": "c6448b35-9d63-4356-b70f-f25c8df8d568",
   "metadata": {},
   "source": [
    "# Handling Missing Data"
   ]
  },
  {
   "cell_type": "code",
   "execution_count": 58,
   "id": "03fb5467-3b46-4871-82e2-585fda4d5d76",
   "metadata": {},
   "outputs": [
    {
     "name": "stdout",
     "output_type": "stream",
     "text": [
      "     A    B\n",
      "0  1.0  4.0\n",
      "1  2.0  NaN\n",
      "2  NaN  6.0\n"
     ]
    }
   ],
   "source": [
    "df_with_nan = pd.DataFrame ({'A':[1,2,None],'B':[4,None,6]})\n",
    "print(df_with_nan)"
   ]
  },
  {
   "cell_type": "code",
   "execution_count": 57,
   "id": "456ee5b7-28a9-4495-8d12-68d1086c46b1",
   "metadata": {},
   "outputs": [
    {
     "name": "stdout",
     "output_type": "stream",
     "text": [
      "       A      B\n",
      "0  False  False\n",
      "1  False   True\n",
      "2   True  False\n"
     ]
    }
   ],
   "source": [
    "# Detect missing values\n",
    "df_with_nan = pd.DataFrame ({'A':[1,2,None],'B':[4,None,6]})\n",
    "print(df_with_nan.isnull())"
   ]
  },
  {
   "cell_type": "code",
   "execution_count": 61,
   "id": "410f9010-eb3b-4cd2-982c-607af3c9a58d",
   "metadata": {},
   "outputs": [
    {
     "data": {
      "text/html": [
       "<div>\n",
       "<style scoped>\n",
       "    .dataframe tbody tr th:only-of-type {\n",
       "        vertical-align: middle;\n",
       "    }\n",
       "\n",
       "    .dataframe tbody tr th {\n",
       "        vertical-align: top;\n",
       "    }\n",
       "\n",
       "    .dataframe thead th {\n",
       "        text-align: right;\n",
       "    }\n",
       "</style>\n",
       "<table border=\"1\" class=\"dataframe\">\n",
       "  <thead>\n",
       "    <tr style=\"text-align: right;\">\n",
       "      <th></th>\n",
       "      <th>A</th>\n",
       "      <th>B</th>\n",
       "    </tr>\n",
       "  </thead>\n",
       "  <tbody>\n",
       "    <tr>\n",
       "      <th>0</th>\n",
       "      <td>False</td>\n",
       "      <td>False</td>\n",
       "    </tr>\n",
       "    <tr>\n",
       "      <th>1</th>\n",
       "      <td>False</td>\n",
       "      <td>True</td>\n",
       "    </tr>\n",
       "    <tr>\n",
       "      <th>2</th>\n",
       "      <td>True</td>\n",
       "      <td>False</td>\n",
       "    </tr>\n",
       "  </tbody>\n",
       "</table>\n",
       "</div>"
      ],
      "text/plain": [
       "       A      B\n",
       "0  False  False\n",
       "1  False   True\n",
       "2   True  False"
      ]
     },
     "execution_count": 61,
     "metadata": {},
     "output_type": "execute_result"
    }
   ],
   "source": [
    "# Detect missing values\n",
    "df_with_nan.isna()"
   ]
  },
  {
   "cell_type": "code",
   "execution_count": 64,
   "id": "0e5dd9cd-73eb-4338-ae41-bb977c0c818f",
   "metadata": {},
   "outputs": [
    {
     "data": {
      "text/plain": [
       "A    1\n",
       "B    1\n",
       "dtype: int64"
      ]
     },
     "execution_count": 64,
     "metadata": {},
     "output_type": "execute_result"
    }
   ],
   "source": [
    "#Detect total missing values in each coulmn \n",
    "df_with_nan.isnull().sum()"
   ]
  },
  {
   "cell_type": "code",
   "execution_count": 67,
   "id": "d3da2759-ec85-4245-bb45-426a6a2da24f",
   "metadata": {},
   "outputs": [
    {
     "data": {
      "text/plain": [
       "2"
      ]
     },
     "execution_count": 67,
     "metadata": {},
     "output_type": "execute_result"
    }
   ],
   "source": [
    "#Detect total missing values in all dataframe \n",
    "df_with_nan.isnull().sum().sum()"
   ]
  },
  {
   "cell_type": "code",
   "execution_count": 68,
   "id": "ccfd5eea-b6e3-4b5b-93cb-1cfa67e972b1",
   "metadata": {},
   "outputs": [
    {
     "name": "stdout",
     "output_type": "stream",
     "text": [
      "     A    B\n",
      "0  1.0  4.0\n",
      "1  2.0  0.0\n",
      "2  0.0  6.0\n"
     ]
    }
   ],
   "source": [
    "# Fill missing values with 0\n",
    "filled_df = df_with_nan.fillna(0)\n",
    "print(filled_df)"
   ]
  },
  {
   "cell_type": "code",
   "execution_count": 69,
   "id": "5b124a15-970c-4257-ad93-8487d45fcdf0",
   "metadata": {},
   "outputs": [
    {
     "data": {
      "text/html": [
       "<div>\n",
       "<style scoped>\n",
       "    .dataframe tbody tr th:only-of-type {\n",
       "        vertical-align: middle;\n",
       "    }\n",
       "\n",
       "    .dataframe tbody tr th {\n",
       "        vertical-align: top;\n",
       "    }\n",
       "\n",
       "    .dataframe thead th {\n",
       "        text-align: right;\n",
       "    }\n",
       "</style>\n",
       "<table border=\"1\" class=\"dataframe\">\n",
       "  <thead>\n",
       "    <tr style=\"text-align: right;\">\n",
       "      <th></th>\n",
       "      <th>A</th>\n",
       "      <th>B</th>\n",
       "    </tr>\n",
       "  </thead>\n",
       "  <tbody>\n",
       "    <tr>\n",
       "      <th>0</th>\n",
       "      <td>1.0</td>\n",
       "      <td>4.0</td>\n",
       "    </tr>\n",
       "  </tbody>\n",
       "</table>\n",
       "</div>"
      ],
      "text/plain": [
       "     A    B\n",
       "0  1.0  4.0"
      ]
     },
     "execution_count": 69,
     "metadata": {},
     "output_type": "execute_result"
    }
   ],
   "source": [
    "# Drop rows with missing values\n",
    "df_with_nan.dropna()"
   ]
  },
  {
   "cell_type": "code",
   "execution_count": 72,
   "id": "5eb52f29-b410-459c-a121-68d1b744cab7",
   "metadata": {},
   "outputs": [
    {
     "data": {
      "text/html": [
       "<div>\n",
       "<style scoped>\n",
       "    .dataframe tbody tr th:only-of-type {\n",
       "        vertical-align: middle;\n",
       "    }\n",
       "\n",
       "    .dataframe tbody tr th {\n",
       "        vertical-align: top;\n",
       "    }\n",
       "\n",
       "    .dataframe thead th {\n",
       "        text-align: right;\n",
       "    }\n",
       "</style>\n",
       "<table border=\"1\" class=\"dataframe\">\n",
       "  <thead>\n",
       "    <tr style=\"text-align: right;\">\n",
       "      <th></th>\n",
       "    </tr>\n",
       "  </thead>\n",
       "  <tbody>\n",
       "    <tr>\n",
       "      <th>0</th>\n",
       "    </tr>\n",
       "    <tr>\n",
       "      <th>1</th>\n",
       "    </tr>\n",
       "    <tr>\n",
       "      <th>2</th>\n",
       "    </tr>\n",
       "  </tbody>\n",
       "</table>\n",
       "</div>"
      ],
      "text/plain": [
       "Empty DataFrame\n",
       "Columns: []\n",
       "Index: [0, 1, 2]"
      ]
     },
     "execution_count": 72,
     "metadata": {},
     "output_type": "execute_result"
    }
   ],
   "source": [
    "df_with_nan.dropna(axis =1)"
   ]
  },
  {
   "cell_type": "markdown",
   "id": "2eeedeea-351e-411e-9435-2095b19dc71d",
   "metadata": {},
   "source": [
    "# Grouping and Aggregation"
   ]
  },
  {
   "cell_type": "code",
   "execution_count": 81,
   "id": "a90e36b6-62dd-4f0d-82f6-de9bf188bcc2",
   "metadata": {},
   "outputs": [
    {
     "name": "stdout",
     "output_type": "stream",
     "text": [
      "  Department  Salary\n",
      "0         HR   50000\n",
      "1         IT   60000\n",
      "2         HR   45000\n",
      "3         IT   80000\n"
     ]
    }
   ],
   "source": [
    "df = pd.DataFrame({'Department': ['HR', 'IT', 'HR', 'IT'],\n",
    "                'Salary': [50000, 60000, 45000, 80000]})\n",
    "print(df)"
   ]
  },
  {
   "cell_type": "code",
   "execution_count": 82,
   "id": "ec93f45f-a7a1-4737-8850-9e97ff825af8",
   "metadata": {},
   "outputs": [
    {
     "name": "stdout",
     "output_type": "stream",
     "text": [
      "  Department  Salary  Double Salary\n",
      "0         HR   50000         100000\n",
      "1         IT   60000         120000\n",
      "2         HR   45000          90000\n",
      "3         IT   80000         160000\n"
     ]
    }
   ],
   "source": [
    "def double_salary(x):\n",
    "    return x * 2\n",
    "\n",
    "df['Double Salary'] = df['Salary'].apply(double_salary)\n",
    "print(df)"
   ]
  },
  {
   "cell_type": "code",
   "execution_count": 83,
   "id": "bef9a6a1-2ad2-4892-a58b-e570aa17613b",
   "metadata": {},
   "outputs": [
    {
     "data": {
      "text/plain": [
       "Department\n",
       "HR    47500.0\n",
       "IT    70000.0\n",
       "Name: Salary, dtype: float64"
      ]
     },
     "execution_count": 83,
     "metadata": {},
     "output_type": "execute_result"
    }
   ],
   "source": [
    "# Group data by 'Department' and calculate mean salary\n",
    "df.groupby('Department')['Salary'].mean()"
   ]
  },
  {
   "cell_type": "markdown",
   "id": "4e4edc49-aef7-4acc-b016-fd0f820b8118",
   "metadata": {},
   "source": [
    " # Practical Examples"
   ]
  },
  {
   "cell_type": "code",
   "execution_count": 135,
   "id": "883e8a4f-95ed-40a3-82d5-f40ad0daecab",
   "metadata": {},
   "outputs": [],
   "source": [
    "# Load the CSV file into a Pandas DataFrame\n",
    "df =pd.read_csv(\"Grades_Short.csv\")"
   ]
  },
  {
   "cell_type": "code",
   "execution_count": 136,
   "id": "0aeb781d-6792-4ccc-9e57-78c3d47fc8a8",
   "metadata": {},
   "outputs": [
    {
     "data": {
      "text/html": [
       "<div>\n",
       "<style scoped>\n",
       "    .dataframe tbody tr th:only-of-type {\n",
       "        vertical-align: middle;\n",
       "    }\n",
       "\n",
       "    .dataframe tbody tr th {\n",
       "        vertical-align: top;\n",
       "    }\n",
       "\n",
       "    .dataframe thead th {\n",
       "        text-align: right;\n",
       "    }\n",
       "</style>\n",
       "<table border=\"1\" class=\"dataframe\">\n",
       "  <thead>\n",
       "    <tr style=\"text-align: right;\">\n",
       "      <th></th>\n",
       "      <th>Name</th>\n",
       "      <th>Previous_Part</th>\n",
       "      <th>Participation1</th>\n",
       "      <th>Mini_Exam1</th>\n",
       "      <th>Mini_Exam2</th>\n",
       "      <th>Participation2</th>\n",
       "      <th>Mini_Exam3</th>\n",
       "      <th>Final</th>\n",
       "      <th>Grade</th>\n",
       "      <th>ID</th>\n",
       "    </tr>\n",
       "  </thead>\n",
       "  <tbody>\n",
       "    <tr>\n",
       "      <th>0</th>\n",
       "      <td>Jake</td>\n",
       "      <td>32.0</td>\n",
       "      <td>1</td>\n",
       "      <td>19.5</td>\n",
       "      <td>20</td>\n",
       "      <td>1</td>\n",
       "      <td>10.0</td>\n",
       "      <td>33.0</td>\n",
       "      <td>A</td>\n",
       "      <td>90743</td>\n",
       "    </tr>\n",
       "    <tr>\n",
       "      <th>1</th>\n",
       "      <td>Joe</td>\n",
       "      <td>32.0</td>\n",
       "      <td>1</td>\n",
       "      <td>20.0</td>\n",
       "      <td>16</td>\n",
       "      <td>1</td>\n",
       "      <td>14.0</td>\n",
       "      <td>32.0</td>\n",
       "      <td>A</td>\n",
       "      <td>7284</td>\n",
       "    </tr>\n",
       "    <tr>\n",
       "      <th>2</th>\n",
       "      <td>Susan</td>\n",
       "      <td>30.0</td>\n",
       "      <td>1</td>\n",
       "      <td>19.0</td>\n",
       "      <td>19</td>\n",
       "      <td>1</td>\n",
       "      <td>10.5</td>\n",
       "      <td>33.0</td>\n",
       "      <td>A-</td>\n",
       "      <td>7625</td>\n",
       "    </tr>\n",
       "    <tr>\n",
       "      <th>3</th>\n",
       "      <td>Sol</td>\n",
       "      <td>31.0</td>\n",
       "      <td>1</td>\n",
       "      <td>22.0</td>\n",
       "      <td>13</td>\n",
       "      <td>1</td>\n",
       "      <td>13.0</td>\n",
       "      <td>34.0</td>\n",
       "      <td>A</td>\n",
       "      <td>1237</td>\n",
       "    </tr>\n",
       "    <tr>\n",
       "      <th>4</th>\n",
       "      <td>Chris</td>\n",
       "      <td>30.0</td>\n",
       "      <td>1</td>\n",
       "      <td>19.0</td>\n",
       "      <td>17</td>\n",
       "      <td>1</td>\n",
       "      <td>12.5</td>\n",
       "      <td>33.5</td>\n",
       "      <td>A</td>\n",
       "      <td>62</td>\n",
       "    </tr>\n",
       "  </tbody>\n",
       "</table>\n",
       "</div>"
      ],
      "text/plain": [
       "    Name  Previous_Part  Participation1  Mini_Exam1  Mini_Exam2  \\\n",
       "0   Jake           32.0               1        19.5          20   \n",
       "1    Joe           32.0               1        20.0          16   \n",
       "2  Susan           30.0               1        19.0          19   \n",
       "3    Sol           31.0               1        22.0          13   \n",
       "4  Chris           30.0               1        19.0          17   \n",
       "\n",
       "   Participation2  Mini_Exam3  Final Grade     ID  \n",
       "0               1        10.0   33.0     A  90743  \n",
       "1               1        14.0   32.0     A   7284  \n",
       "2               1        10.5   33.0    A-   7625  \n",
       "3               1        13.0   34.0     A   1237  \n",
       "4               1        12.5   33.5     A     62  "
      ]
     },
     "execution_count": 136,
     "metadata": {},
     "output_type": "execute_result"
    }
   ],
   "source": [
    "# Display the first 5 rows of the DataFrame\n",
    "df.head()"
   ]
  },
  {
   "cell_type": "code",
   "execution_count": 138,
   "id": "8ac29aba-556d-4d1c-aa06-008b00f7733e",
   "metadata": {},
   "outputs": [
    {
     "data": {
      "text/plain": [
       "(7, 10)"
      ]
     },
     "execution_count": 138,
     "metadata": {},
     "output_type": "execute_result"
    }
   ],
   "source": [
    "#dimension of DF\n",
    "df.shape"
   ]
  },
  {
   "cell_type": "code",
   "execution_count": 139,
   "id": "58c69c0d-e88c-4aa9-83d1-fe23ffb3cae6",
   "metadata": {},
   "outputs": [
    {
     "data": {
      "text/plain": [
       "Name               object\n",
       "Previous_Part     float64\n",
       "Participation1      int64\n",
       "Mini_Exam1        float64\n",
       "Mini_Exam2          int64\n",
       "Participation2      int64\n",
       "Mini_Exam3        float64\n",
       "Final             float64\n",
       "Grade              object\n",
       "ID                  int64\n",
       "dtype: object"
      ]
     },
     "execution_count": 139,
     "metadata": {},
     "output_type": "execute_result"
    }
   ],
   "source": [
    "#How each column is stored\n",
    "df.dtypes"
   ]
  },
  {
   "cell_type": "code",
   "execution_count": 141,
   "id": "17832ea3-fb09-4dab-97aa-ce3a7737239c",
   "metadata": {},
   "outputs": [
    {
     "data": {
      "text/plain": [
       "Index(['Name', 'Previous_Part', 'Participation1', 'Mini_Exam1', 'Mini_Exam2',\n",
       "       'Participation2', 'Mini_Exam3', 'Final', 'Grade', 'ID'],\n",
       "      dtype='object')"
      ]
     },
     "execution_count": 141,
     "metadata": {},
     "output_type": "execute_result"
    }
   ],
   "source": [
    "#get column names\n",
    "df.columns"
   ]
  },
  {
   "cell_type": "code",
   "execution_count": 142,
   "id": "c7cbec7c-c6bd-469c-97e8-b76f5be45527",
   "metadata": {},
   "outputs": [
    {
     "data": {
      "text/plain": [
       "RangeIndex(start=0, stop=7, step=1)"
      ]
     },
     "execution_count": 142,
     "metadata": {},
     "output_type": "execute_result"
    }
   ],
   "source": [
    "#Get row names\n",
    "df.index"
   ]
  },
  {
   "cell_type": "code",
   "execution_count": 146,
   "id": "e9d6cacb-d8be-4270-a3c2-9e459232f9b8",
   "metadata": {},
   "outputs": [
    {
     "data": {
      "text/plain": [
       "0     Jake\n",
       "1      Joe\n",
       "2    Susan\n",
       "3      Sol\n",
       "4    Chris\n",
       "5    Tarik\n",
       "6    Malik\n",
       "Name: Name, dtype: object"
      ]
     },
     "execution_count": 146,
     "metadata": {},
     "output_type": "execute_result"
    }
   ],
   "source": [
    "#Get Name column\n",
    "names = df['Name']\n",
    "names"
   ]
  },
  {
   "cell_type": "code",
   "execution_count": 144,
   "id": "dcb19c2e-58d2-4af4-ab91-25117c8fc339",
   "metadata": {},
   "outputs": [
    {
     "data": {
      "text/plain": [
       "0     Jake\n",
       "1      Joe\n",
       "2    Susan\n",
       "3      Sol\n",
       "4    Chris\n",
       "5    Tarik\n",
       "6    Malik\n",
       "Name: Name, dtype: object"
      ]
     },
     "execution_count": 144,
     "metadata": {},
     "output_type": "execute_result"
    }
   ],
   "source": [
    "#get Name Column but not preferred\n",
    "df.Name"
   ]
  },
  {
   "cell_type": "code",
   "execution_count": 145,
   "id": "bf971556-8867-4b91-8426-7e100a5b8fa5",
   "metadata": {},
   "outputs": [
    {
     "data": {
      "text/html": [
       "<div>\n",
       "<style scoped>\n",
       "    .dataframe tbody tr th:only-of-type {\n",
       "        vertical-align: middle;\n",
       "    }\n",
       "\n",
       "    .dataframe tbody tr th {\n",
       "        vertical-align: top;\n",
       "    }\n",
       "\n",
       "    .dataframe thead th {\n",
       "        text-align: right;\n",
       "    }\n",
       "</style>\n",
       "<table border=\"1\" class=\"dataframe\">\n",
       "  <thead>\n",
       "    <tr style=\"text-align: right;\">\n",
       "      <th></th>\n",
       "      <th>Name</th>\n",
       "      <th>Grade</th>\n",
       "    </tr>\n",
       "  </thead>\n",
       "  <tbody>\n",
       "    <tr>\n",
       "      <th>0</th>\n",
       "      <td>Jake</td>\n",
       "      <td>A</td>\n",
       "    </tr>\n",
       "    <tr>\n",
       "      <th>1</th>\n",
       "      <td>Joe</td>\n",
       "      <td>A</td>\n",
       "    </tr>\n",
       "    <tr>\n",
       "      <th>2</th>\n",
       "      <td>Susan</td>\n",
       "      <td>A-</td>\n",
       "    </tr>\n",
       "    <tr>\n",
       "      <th>3</th>\n",
       "      <td>Sol</td>\n",
       "      <td>A</td>\n",
       "    </tr>\n",
       "    <tr>\n",
       "      <th>4</th>\n",
       "      <td>Chris</td>\n",
       "      <td>A</td>\n",
       "    </tr>\n",
       "    <tr>\n",
       "      <th>5</th>\n",
       "      <td>Tarik</td>\n",
       "      <td>B</td>\n",
       "    </tr>\n",
       "    <tr>\n",
       "      <th>6</th>\n",
       "      <td>Malik</td>\n",
       "      <td>A</td>\n",
       "    </tr>\n",
       "  </tbody>\n",
       "</table>\n",
       "</div>"
      ],
      "text/plain": [
       "    Name Grade\n",
       "0   Jake     A\n",
       "1    Joe     A\n",
       "2  Susan    A-\n",
       "3    Sol     A\n",
       "4  Chris     A\n",
       "5  Tarik     B\n",
       "6  Malik     A"
      ]
     },
     "execution_count": 145,
     "metadata": {},
     "output_type": "execute_result"
    }
   ],
   "source": [
    "#Select multiple columns\n",
    "df[[\"Name\",\"Grade\"]]"
   ]
  },
  {
   "cell_type": "code",
   "execution_count": 148,
   "id": "b7aa2fbd-a749-47a4-8ec3-8e0bbb7714b9",
   "metadata": {},
   "outputs": [
    {
     "data": {
      "text/plain": [
       "'Jake'"
      ]
     },
     "execution_count": 148,
     "metadata": {},
     "output_type": "execute_result"
    }
   ],
   "source": [
    "names[0]"
   ]
  },
  {
   "cell_type": "code",
   "execution_count": 149,
   "id": "126459a4-bbe1-4632-8a14-d0349baeb7fd",
   "metadata": {},
   "outputs": [
    {
     "data": {
      "text/plain": [
       "1      Joe\n",
       "2    Susan\n",
       "3      Sol\n",
       "Name: Name, dtype: object"
      ]
     },
     "execution_count": 149,
     "metadata": {},
     "output_type": "execute_result"
    }
   ],
   "source": [
    "names[1:4]"
   ]
  },
  {
   "cell_type": "code",
   "execution_count": 150,
   "id": "22e1bdda-a1de-4620-9a9e-b8de54daab11",
   "metadata": {},
   "outputs": [
    {
     "data": {
      "text/plain": [
       "1      Joe\n",
       "2    Susan\n",
       "4    Chris\n",
       "Name: Name, dtype: object"
      ]
     },
     "execution_count": 150,
     "metadata": {},
     "output_type": "execute_result"
    }
   ],
   "source": [
    "names[[1,2,4]]"
   ]
  },
  {
   "cell_type": "code",
   "execution_count": 153,
   "id": "a3b27e96-b8ef-48f3-a29b-1128be6e52a8",
   "metadata": {},
   "outputs": [
    {
     "data": {
      "text/plain": [
       "'Jake'"
      ]
     },
     "execution_count": 153,
     "metadata": {},
     "output_type": "execute_result"
    }
   ],
   "source": [
    "#Slicing DataFrame\n",
    "first_name = df.loc[0,\"Name\"]\n",
    "first_name"
   ]
  },
  {
   "cell_type": "code",
   "execution_count": 155,
   "id": "8beb1434-6ff1-44f9-9307-4ad3ee3853da",
   "metadata": {},
   "outputs": [
    {
     "data": {
      "text/plain": [
       "Name               Jake\n",
       "Previous_Part      32.0\n",
       "Participation1        1\n",
       "Mini_Exam1         19.5\n",
       "Mini_Exam2           20\n",
       "Participation2        1\n",
       "Mini_Exam3         10.0\n",
       "Final              33.0\n",
       "Grade                 A\n",
       "ID                90743\n",
       "Name: 0, dtype: object"
      ]
     },
     "execution_count": 155,
     "metadata": {},
     "output_type": "execute_result"
    }
   ],
   "source": [
    "#slicing entire row\n",
    "first_row = df.loc[0,:]\n",
    "first_row"
   ]
  },
  {
   "cell_type": "code",
   "execution_count": 158,
   "id": "27abc32c-a500-403a-8ce0-dfd9acbe952a",
   "metadata": {},
   "outputs": [
    {
     "data": {
      "text/html": [
       "<div>\n",
       "<style scoped>\n",
       "    .dataframe tbody tr th:only-of-type {\n",
       "        vertical-align: middle;\n",
       "    }\n",
       "\n",
       "    .dataframe tbody tr th {\n",
       "        vertical-align: top;\n",
       "    }\n",
       "\n",
       "    .dataframe thead th {\n",
       "        text-align: right;\n",
       "    }\n",
       "</style>\n",
       "<table border=\"1\" class=\"dataframe\">\n",
       "  <thead>\n",
       "    <tr style=\"text-align: right;\">\n",
       "      <th></th>\n",
       "      <th>Name</th>\n",
       "      <th>Previous_Part</th>\n",
       "      <th>Participation1</th>\n",
       "      <th>Mini_Exam1</th>\n",
       "      <th>Mini_Exam2</th>\n",
       "    </tr>\n",
       "  </thead>\n",
       "  <tbody>\n",
       "    <tr>\n",
       "      <th>0</th>\n",
       "      <td>Jake</td>\n",
       "      <td>32.0</td>\n",
       "      <td>1</td>\n",
       "      <td>19.5</td>\n",
       "      <td>20</td>\n",
       "    </tr>\n",
       "    <tr>\n",
       "      <th>1</th>\n",
       "      <td>Joe</td>\n",
       "      <td>32.0</td>\n",
       "      <td>1</td>\n",
       "      <td>20.0</td>\n",
       "      <td>16</td>\n",
       "    </tr>\n",
       "    <tr>\n",
       "      <th>2</th>\n",
       "      <td>Susan</td>\n",
       "      <td>30.0</td>\n",
       "      <td>1</td>\n",
       "      <td>19.0</td>\n",
       "      <td>19</td>\n",
       "    </tr>\n",
       "  </tbody>\n",
       "</table>\n",
       "</div>"
      ],
      "text/plain": [
       "    Name  Previous_Part  Participation1  Mini_Exam1  Mini_Exam2\n",
       "0   Jake           32.0               1        19.5          20\n",
       "1    Joe           32.0               1        20.0          16\n",
       "2  Susan           30.0               1        19.0          19"
      ]
     },
     "execution_count": 158,
     "metadata": {},
     "output_type": "execute_result"
    }
   ],
   "source": [
    "#pick out contiguous chunk row from 0 to 2 column from name to mini_exam\n",
    "slice_one = df.loc[0:2,\"Name\":\"Mini_Exam2\"]\n",
    "slice_one"
   ]
  },
  {
   "cell_type": "code",
   "execution_count": 159,
   "id": "9546290f-0539-4b42-acef-c24a0833f5b9",
   "metadata": {},
   "outputs": [
    {
     "data": {
      "text/html": [
       "<div>\n",
       "<style scoped>\n",
       "    .dataframe tbody tr th:only-of-type {\n",
       "        vertical-align: middle;\n",
       "    }\n",
       "\n",
       "    .dataframe tbody tr th {\n",
       "        vertical-align: top;\n",
       "    }\n",
       "\n",
       "    .dataframe thead th {\n",
       "        text-align: right;\n",
       "    }\n",
       "</style>\n",
       "<table border=\"1\" class=\"dataframe\">\n",
       "  <thead>\n",
       "    <tr style=\"text-align: right;\">\n",
       "      <th></th>\n",
       "      <th>Name</th>\n",
       "      <th>Grade</th>\n",
       "    </tr>\n",
       "  </thead>\n",
       "  <tbody>\n",
       "    <tr>\n",
       "      <th>0</th>\n",
       "      <td>Jake</td>\n",
       "      <td>A</td>\n",
       "    </tr>\n",
       "    <tr>\n",
       "      <th>2</th>\n",
       "      <td>Susan</td>\n",
       "      <td>A-</td>\n",
       "    </tr>\n",
       "    <tr>\n",
       "      <th>3</th>\n",
       "      <td>Sol</td>\n",
       "      <td>A</td>\n",
       "    </tr>\n",
       "  </tbody>\n",
       "</table>\n",
       "</div>"
      ],
      "text/plain": [
       "    Name Grade\n",
       "0   Jake     A\n",
       "2  Susan    A-\n",
       "3    Sol     A"
      ]
     },
     "execution_count": 159,
     "metadata": {},
     "output_type": "execute_result"
    }
   ],
   "source": [
    "#pick out row 0,2 and 3 column name and Grade\n",
    "slice_two = df.loc[[0,2,3],[\"Name\",\"Grade\"]]\n",
    "slice_two"
   ]
  },
  {
   "cell_type": "code",
   "execution_count": 162,
   "id": "f7ca7679-3386-454a-92a1-5d06d3cfba77",
   "metadata": {},
   "outputs": [
    {
     "data": {
      "text/plain": [
       "32.214285714285715"
      ]
     },
     "execution_count": 162,
     "metadata": {},
     "output_type": "execute_result"
    }
   ],
   "source": [
    "#build in function calculate mean for Final column\n",
    "avg_final = df.Final.mean()\n",
    "avg_final"
   ]
  },
  {
   "cell_type": "code",
   "execution_count": 163,
   "id": "53a4e010-28ec-4f7f-8a1e-6a4ef9316284",
   "metadata": {},
   "outputs": [
    {
     "data": {
      "text/plain": [
       "22.0"
      ]
     },
     "execution_count": 163,
     "metadata": {},
     "output_type": "execute_result"
    }
   ],
   "source": [
    "#build in function print max value\n",
    "max_mini_1 = df[\"Mini_Exam1\"].max()\n",
    "max_mini_1"
   ]
  },
  {
   "cell_type": "code",
   "execution_count": 165,
   "id": "6f0d3d9d-0804-4deb-8e3d-a1dde8dc75c1",
   "metadata": {},
   "outputs": [
    {
     "data": {
      "text/html": [
       "<div>\n",
       "<style scoped>\n",
       "    .dataframe tbody tr th:only-of-type {\n",
       "        vertical-align: middle;\n",
       "    }\n",
       "\n",
       "    .dataframe tbody tr th {\n",
       "        vertical-align: top;\n",
       "    }\n",
       "\n",
       "    .dataframe thead th {\n",
       "        text-align: right;\n",
       "    }\n",
       "</style>\n",
       "<table border=\"1\" class=\"dataframe\">\n",
       "  <thead>\n",
       "    <tr style=\"text-align: right;\">\n",
       "      <th></th>\n",
       "      <th>Previous_Part</th>\n",
       "      <th>Participation1</th>\n",
       "      <th>Mini_Exam1</th>\n",
       "      <th>Mini_Exam2</th>\n",
       "      <th>Participation2</th>\n",
       "      <th>Mini_Exam3</th>\n",
       "      <th>Final</th>\n",
       "      <th>ID</th>\n",
       "    </tr>\n",
       "  </thead>\n",
       "  <tbody>\n",
       "    <tr>\n",
       "      <th>count</th>\n",
       "      <td>7.000000</td>\n",
       "      <td>7.0</td>\n",
       "      <td>7.000000</td>\n",
       "      <td>7.000000</td>\n",
       "      <td>7.0</td>\n",
       "      <td>7.000000</td>\n",
       "      <td>7.000000</td>\n",
       "      <td>7.00000</td>\n",
       "    </tr>\n",
       "    <tr>\n",
       "      <th>mean</th>\n",
       "      <td>31.071429</td>\n",
       "      <td>1.0</td>\n",
       "      <td>19.785714</td>\n",
       "      <td>17.857143</td>\n",
       "      <td>1.0</td>\n",
       "      <td>11.000000</td>\n",
       "      <td>32.214286</td>\n",
       "      <td>29111.00000</td>\n",
       "    </tr>\n",
       "    <tr>\n",
       "      <th>std</th>\n",
       "      <td>0.838082</td>\n",
       "      <td>0.0</td>\n",
       "      <td>1.074598</td>\n",
       "      <td>2.734262</td>\n",
       "      <td>0.0</td>\n",
       "      <td>2.217356</td>\n",
       "      <td>3.828154</td>\n",
       "      <td>41131.08167</td>\n",
       "    </tr>\n",
       "    <tr>\n",
       "      <th>min</th>\n",
       "      <td>30.000000</td>\n",
       "      <td>1.0</td>\n",
       "      <td>19.000000</td>\n",
       "      <td>13.000000</td>\n",
       "      <td>1.0</td>\n",
       "      <td>8.000000</td>\n",
       "      <td>24.000000</td>\n",
       "      <td>62.00000</td>\n",
       "    </tr>\n",
       "    <tr>\n",
       "      <th>25%</th>\n",
       "      <td>30.500000</td>\n",
       "      <td>1.0</td>\n",
       "      <td>19.000000</td>\n",
       "      <td>16.500000</td>\n",
       "      <td>1.0</td>\n",
       "      <td>9.500000</td>\n",
       "      <td>32.500000</td>\n",
       "      <td>4260.50000</td>\n",
       "    </tr>\n",
       "    <tr>\n",
       "      <th>50%</th>\n",
       "      <td>31.000000</td>\n",
       "      <td>1.0</td>\n",
       "      <td>19.500000</td>\n",
       "      <td>19.000000</td>\n",
       "      <td>1.0</td>\n",
       "      <td>10.500000</td>\n",
       "      <td>33.000000</td>\n",
       "      <td>7625.00000</td>\n",
       "    </tr>\n",
       "    <tr>\n",
       "      <th>75%</th>\n",
       "      <td>31.750000</td>\n",
       "      <td>1.0</td>\n",
       "      <td>20.000000</td>\n",
       "      <td>19.500000</td>\n",
       "      <td>1.0</td>\n",
       "      <td>12.750000</td>\n",
       "      <td>33.750000</td>\n",
       "      <td>48413.00000</td>\n",
       "    </tr>\n",
       "    <tr>\n",
       "      <th>max</th>\n",
       "      <td>32.000000</td>\n",
       "      <td>1.0</td>\n",
       "      <td>22.000000</td>\n",
       "      <td>21.000000</td>\n",
       "      <td>1.0</td>\n",
       "      <td>14.000000</td>\n",
       "      <td>36.000000</td>\n",
       "      <td>90743.00000</td>\n",
       "    </tr>\n",
       "  </tbody>\n",
       "</table>\n",
       "</div>"
      ],
      "text/plain": [
       "       Previous_Part  Participation1  Mini_Exam1  Mini_Exam2  Participation2  \\\n",
       "count       7.000000             7.0    7.000000    7.000000             7.0   \n",
       "mean       31.071429             1.0   19.785714   17.857143             1.0   \n",
       "std         0.838082             0.0    1.074598    2.734262             0.0   \n",
       "min        30.000000             1.0   19.000000   13.000000             1.0   \n",
       "25%        30.500000             1.0   19.000000   16.500000             1.0   \n",
       "50%        31.000000             1.0   19.500000   19.000000             1.0   \n",
       "75%        31.750000             1.0   20.000000   19.500000             1.0   \n",
       "max        32.000000             1.0   22.000000   21.000000             1.0   \n",
       "\n",
       "       Mini_Exam3      Final           ID  \n",
       "count    7.000000   7.000000      7.00000  \n",
       "mean    11.000000  32.214286  29111.00000  \n",
       "std      2.217356   3.828154  41131.08167  \n",
       "min      8.000000  24.000000     62.00000  \n",
       "25%      9.500000  32.500000   4260.50000  \n",
       "50%     10.500000  33.000000   7625.00000  \n",
       "75%     12.750000  33.750000  48413.00000  \n",
       "max     14.000000  36.000000  90743.00000  "
      ]
     },
     "execution_count": 165,
     "metadata": {},
     "output_type": "execute_result"
    }
   ],
   "source": [
    "# Generate descriptive statistics for numerical columns\n",
    "df.describe()"
   ]
  },
  {
   "cell_type": "code",
   "execution_count": 168,
   "id": "6a672ea8-6286-49c7-bf3e-fe460ffb453f",
   "metadata": {},
   "outputs": [
    {
     "data": {
      "text/plain": [
       "Grade\n",
       "A     5\n",
       "A-    1\n",
       "B     1\n",
       "Name: count, dtype: int64"
      ]
     },
     "execution_count": 168,
     "metadata": {},
     "output_type": "execute_result"
    }
   ],
   "source": [
    "#build in function print unique and its count\n",
    "df[\"Grade\"].value_counts()"
   ]
  },
  {
   "cell_type": "code",
   "execution_count": 169,
   "id": "00725247-cab8-4e85-a605-a79fd61177af",
   "metadata": {},
   "outputs": [
    {
     "data": {
      "text/plain": [
       "array(['A', 'A-', 'B'], dtype=object)"
      ]
     },
     "execution_count": 169,
     "metadata": {},
     "output_type": "execute_result"
    }
   ],
   "source": [
    "#Returns all the unique values.\n",
    "df[\"Grade\"].unique()"
   ]
  },
  {
   "cell_type": "code",
   "execution_count": 174,
   "id": "784e36b5-4108-455c-9b28-d1656ca60bfd",
   "metadata": {},
   "outputs": [
    {
     "data": {
      "text/html": [
       "<div>\n",
       "<style scoped>\n",
       "    .dataframe tbody tr th:only-of-type {\n",
       "        vertical-align: middle;\n",
       "    }\n",
       "\n",
       "    .dataframe tbody tr th {\n",
       "        vertical-align: top;\n",
       "    }\n",
       "\n",
       "    .dataframe thead th {\n",
       "        text-align: right;\n",
       "    }\n",
       "</style>\n",
       "<table border=\"1\" class=\"dataframe\">\n",
       "  <thead>\n",
       "    <tr style=\"text-align: right;\">\n",
       "      <th></th>\n",
       "      <th>Name</th>\n",
       "      <th>Previous_Part</th>\n",
       "      <th>Participation1</th>\n",
       "      <th>Mini_Exam1</th>\n",
       "      <th>Mini_Exam2</th>\n",
       "      <th>Participation2</th>\n",
       "      <th>Mini_Exam3</th>\n",
       "      <th>Final</th>\n",
       "      <th>Grade</th>\n",
       "      <th>ID</th>\n",
       "      <th>Final_percentage</th>\n",
       "    </tr>\n",
       "  </thead>\n",
       "  <tbody>\n",
       "    <tr>\n",
       "      <th>0</th>\n",
       "      <td>Jake</td>\n",
       "      <td>32.0</td>\n",
       "      <td>1</td>\n",
       "      <td>19.5</td>\n",
       "      <td>20</td>\n",
       "      <td>1</td>\n",
       "      <td>10.0</td>\n",
       "      <td>33.0</td>\n",
       "      <td>A</td>\n",
       "      <td>90743</td>\n",
       "      <td>0.916667</td>\n",
       "    </tr>\n",
       "    <tr>\n",
       "      <th>1</th>\n",
       "      <td>Joe</td>\n",
       "      <td>32.0</td>\n",
       "      <td>1</td>\n",
       "      <td>20.0</td>\n",
       "      <td>16</td>\n",
       "      <td>1</td>\n",
       "      <td>14.0</td>\n",
       "      <td>32.0</td>\n",
       "      <td>A</td>\n",
       "      <td>7284</td>\n",
       "      <td>0.888889</td>\n",
       "    </tr>\n",
       "    <tr>\n",
       "      <th>2</th>\n",
       "      <td>Susan</td>\n",
       "      <td>30.0</td>\n",
       "      <td>1</td>\n",
       "      <td>19.0</td>\n",
       "      <td>19</td>\n",
       "      <td>1</td>\n",
       "      <td>10.5</td>\n",
       "      <td>33.0</td>\n",
       "      <td>A-</td>\n",
       "      <td>7625</td>\n",
       "      <td>0.916667</td>\n",
       "    </tr>\n",
       "    <tr>\n",
       "      <th>3</th>\n",
       "      <td>Sol</td>\n",
       "      <td>31.0</td>\n",
       "      <td>1</td>\n",
       "      <td>22.0</td>\n",
       "      <td>13</td>\n",
       "      <td>1</td>\n",
       "      <td>13.0</td>\n",
       "      <td>34.0</td>\n",
       "      <td>A</td>\n",
       "      <td>1237</td>\n",
       "      <td>0.944444</td>\n",
       "    </tr>\n",
       "    <tr>\n",
       "      <th>4</th>\n",
       "      <td>Chris</td>\n",
       "      <td>30.0</td>\n",
       "      <td>1</td>\n",
       "      <td>19.0</td>\n",
       "      <td>17</td>\n",
       "      <td>1</td>\n",
       "      <td>12.5</td>\n",
       "      <td>33.5</td>\n",
       "      <td>A</td>\n",
       "      <td>62</td>\n",
       "      <td>0.930556</td>\n",
       "    </tr>\n",
       "  </tbody>\n",
       "</table>\n",
       "</div>"
      ],
      "text/plain": [
       "    Name  Previous_Part  Participation1  Mini_Exam1  Mini_Exam2  \\\n",
       "0   Jake           32.0               1        19.5          20   \n",
       "1    Joe           32.0               1        20.0          16   \n",
       "2  Susan           30.0               1        19.0          19   \n",
       "3    Sol           31.0               1        22.0          13   \n",
       "4  Chris           30.0               1        19.0          17   \n",
       "\n",
       "   Participation2  Mini_Exam3  Final Grade     ID  Final_percentage  \n",
       "0               1        10.0   33.0     A  90743          0.916667  \n",
       "1               1        14.0   32.0     A   7284          0.888889  \n",
       "2               1        10.5   33.0    A-   7625          0.916667  \n",
       "3               1        13.0   34.0     A   1237          0.944444  \n",
       "4               1        12.5   33.5     A     62          0.930556  "
      ]
     },
     "execution_count": 174,
     "metadata": {},
     "output_type": "execute_result"
    }
   ],
   "source": [
    "#create column from another column\n",
    "df[\"Final_percentage\"] = df[\"Final\"]/36\n",
    "df.head()"
   ]
  },
  {
   "cell_type": "code",
   "execution_count": 175,
   "id": "8a93c570-3b8f-4f80-b79a-197ecf935a26",
   "metadata": {},
   "outputs": [
    {
     "data": {
      "text/html": [
       "<div>\n",
       "<style scoped>\n",
       "    .dataframe tbody tr th:only-of-type {\n",
       "        vertical-align: middle;\n",
       "    }\n",
       "\n",
       "    .dataframe tbody tr th {\n",
       "        vertical-align: top;\n",
       "    }\n",
       "\n",
       "    .dataframe thead th {\n",
       "        text-align: right;\n",
       "    }\n",
       "</style>\n",
       "<table border=\"1\" class=\"dataframe\">\n",
       "  <thead>\n",
       "    <tr style=\"text-align: right;\">\n",
       "      <th></th>\n",
       "      <th>Name</th>\n",
       "      <th>Previous_Part</th>\n",
       "      <th>Participation1</th>\n",
       "      <th>Mini_Exam1</th>\n",
       "      <th>Mini_Exam2</th>\n",
       "      <th>Participation2</th>\n",
       "      <th>Mini_Exam3</th>\n",
       "      <th>Final</th>\n",
       "      <th>Grade</th>\n",
       "      <th>ID</th>\n",
       "    </tr>\n",
       "  </thead>\n",
       "  <tbody>\n",
       "    <tr>\n",
       "      <th>0</th>\n",
       "      <td>Jake</td>\n",
       "      <td>32.0</td>\n",
       "      <td>1</td>\n",
       "      <td>19.5</td>\n",
       "      <td>20</td>\n",
       "      <td>1</td>\n",
       "      <td>10.0</td>\n",
       "      <td>33.0</td>\n",
       "      <td>A</td>\n",
       "      <td>90743</td>\n",
       "    </tr>\n",
       "    <tr>\n",
       "      <th>1</th>\n",
       "      <td>Joe</td>\n",
       "      <td>32.0</td>\n",
       "      <td>1</td>\n",
       "      <td>20.0</td>\n",
       "      <td>16</td>\n",
       "      <td>1</td>\n",
       "      <td>14.0</td>\n",
       "      <td>32.0</td>\n",
       "      <td>A</td>\n",
       "      <td>7284</td>\n",
       "    </tr>\n",
       "    <tr>\n",
       "      <th>2</th>\n",
       "      <td>Susan</td>\n",
       "      <td>30.0</td>\n",
       "      <td>1</td>\n",
       "      <td>19.0</td>\n",
       "      <td>19</td>\n",
       "      <td>1</td>\n",
       "      <td>10.5</td>\n",
       "      <td>33.0</td>\n",
       "      <td>A-</td>\n",
       "      <td>7625</td>\n",
       "    </tr>\n",
       "    <tr>\n",
       "      <th>3</th>\n",
       "      <td>Sol</td>\n",
       "      <td>31.0</td>\n",
       "      <td>1</td>\n",
       "      <td>22.0</td>\n",
       "      <td>13</td>\n",
       "      <td>1</td>\n",
       "      <td>13.0</td>\n",
       "      <td>34.0</td>\n",
       "      <td>A</td>\n",
       "      <td>1237</td>\n",
       "    </tr>\n",
       "    <tr>\n",
       "      <th>4</th>\n",
       "      <td>Chris</td>\n",
       "      <td>30.0</td>\n",
       "      <td>1</td>\n",
       "      <td>19.0</td>\n",
       "      <td>17</td>\n",
       "      <td>1</td>\n",
       "      <td>12.5</td>\n",
       "      <td>33.5</td>\n",
       "      <td>A</td>\n",
       "      <td>62</td>\n",
       "    </tr>\n",
       "  </tbody>\n",
       "</table>\n",
       "</div>"
      ],
      "text/plain": [
       "    Name  Previous_Part  Participation1  Mini_Exam1  Mini_Exam2  \\\n",
       "0   Jake           32.0               1        19.5          20   \n",
       "1    Joe           32.0               1        20.0          16   \n",
       "2  Susan           30.0               1        19.0          19   \n",
       "3    Sol           31.0               1        22.0          13   \n",
       "4  Chris           30.0               1        19.0          17   \n",
       "\n",
       "   Participation2  Mini_Exam3  Final Grade     ID  \n",
       "0               1        10.0   33.0     A  90743  \n",
       "1               1        14.0   32.0     A   7284  \n",
       "2               1        10.5   33.0    A-   7625  \n",
       "3               1        13.0   34.0     A   1237  \n",
       "4               1        12.5   33.5     A     62  "
      ]
     },
     "execution_count": 175,
     "metadata": {},
     "output_type": "execute_result"
    }
   ],
   "source": [
    "#delete coulmn\n",
    "del df[\"Final_percentage\"]\n",
    "df.head()"
   ]
  },
  {
   "cell_type": "code",
   "execution_count": 176,
   "id": "fb05a102-0737-4da3-9190-365316dfdb29",
   "metadata": {},
   "outputs": [
    {
     "data": {
      "text/html": [
       "<div>\n",
       "<style scoped>\n",
       "    .dataframe tbody tr th:only-of-type {\n",
       "        vertical-align: middle;\n",
       "    }\n",
       "\n",
       "    .dataframe tbody tr th {\n",
       "        vertical-align: top;\n",
       "    }\n",
       "\n",
       "    .dataframe thead th {\n",
       "        text-align: right;\n",
       "    }\n",
       "</style>\n",
       "<table border=\"1\" class=\"dataframe\">\n",
       "  <thead>\n",
       "    <tr style=\"text-align: right;\">\n",
       "      <th></th>\n",
       "      <th>Name</th>\n",
       "      <th>Previous_Part</th>\n",
       "      <th>Mini_Exam1</th>\n",
       "      <th>Mini_Exam2</th>\n",
       "      <th>Participation2</th>\n",
       "      <th>Mini_Exam3</th>\n",
       "      <th>Final</th>\n",
       "      <th>Grade</th>\n",
       "    </tr>\n",
       "  </thead>\n",
       "  <tbody>\n",
       "    <tr>\n",
       "      <th>0</th>\n",
       "      <td>Jake</td>\n",
       "      <td>32.0</td>\n",
       "      <td>19.5</td>\n",
       "      <td>20</td>\n",
       "      <td>1</td>\n",
       "      <td>10.0</td>\n",
       "      <td>33.0</td>\n",
       "      <td>A</td>\n",
       "    </tr>\n",
       "    <tr>\n",
       "      <th>1</th>\n",
       "      <td>Joe</td>\n",
       "      <td>32.0</td>\n",
       "      <td>20.0</td>\n",
       "      <td>16</td>\n",
       "      <td>1</td>\n",
       "      <td>14.0</td>\n",
       "      <td>32.0</td>\n",
       "      <td>A</td>\n",
       "    </tr>\n",
       "    <tr>\n",
       "      <th>2</th>\n",
       "      <td>Susan</td>\n",
       "      <td>30.0</td>\n",
       "      <td>19.0</td>\n",
       "      <td>19</td>\n",
       "      <td>1</td>\n",
       "      <td>10.5</td>\n",
       "      <td>33.0</td>\n",
       "      <td>A-</td>\n",
       "    </tr>\n",
       "    <tr>\n",
       "      <th>3</th>\n",
       "      <td>Sol</td>\n",
       "      <td>31.0</td>\n",
       "      <td>22.0</td>\n",
       "      <td>13</td>\n",
       "      <td>1</td>\n",
       "      <td>13.0</td>\n",
       "      <td>34.0</td>\n",
       "      <td>A</td>\n",
       "    </tr>\n",
       "    <tr>\n",
       "      <th>4</th>\n",
       "      <td>Chris</td>\n",
       "      <td>30.0</td>\n",
       "      <td>19.0</td>\n",
       "      <td>17</td>\n",
       "      <td>1</td>\n",
       "      <td>12.5</td>\n",
       "      <td>33.5</td>\n",
       "      <td>A</td>\n",
       "    </tr>\n",
       "  </tbody>\n",
       "</table>\n",
       "</div>"
      ],
      "text/plain": [
       "    Name  Previous_Part  Mini_Exam1  Mini_Exam2  Participation2  Mini_Exam3  \\\n",
       "0   Jake           32.0        19.5          20               1        10.0   \n",
       "1    Joe           32.0        20.0          16               1        14.0   \n",
       "2  Susan           30.0        19.0          19               1        10.5   \n",
       "3    Sol           31.0        22.0          13               1        13.0   \n",
       "4  Chris           30.0        19.0          17               1        12.5   \n",
       "\n",
       "   Final Grade  \n",
       "0   33.0     A  \n",
       "1   32.0     A  \n",
       "2   33.0    A-  \n",
       "3   34.0     A  \n",
       "4   33.5     A  "
      ]
     },
     "execution_count": 176,
     "metadata": {},
     "output_type": "execute_result"
    }
   ],
   "source": [
    "#delete multiple column\n",
    "df.drop([\"ID\",\"Participation1\"],axis=1,inplace = True)\n",
    "df.head()"
   ]
  },
  {
   "cell_type": "code",
   "execution_count": 178,
   "id": "90e657f8-52fa-4708-8573-8ab5130acaed",
   "metadata": {},
   "outputs": [
    {
     "data": {
      "text/html": [
       "<div>\n",
       "<style scoped>\n",
       "    .dataframe tbody tr th:only-of-type {\n",
       "        vertical-align: middle;\n",
       "    }\n",
       "\n",
       "    .dataframe tbody tr th {\n",
       "        vertical-align: top;\n",
       "    }\n",
       "\n",
       "    .dataframe thead th {\n",
       "        text-align: right;\n",
       "    }\n",
       "</style>\n",
       "<table border=\"1\" class=\"dataframe\">\n",
       "  <thead>\n",
       "    <tr style=\"text-align: right;\">\n",
       "      <th></th>\n",
       "      <th>Name</th>\n",
       "      <th>Previous_Part</th>\n",
       "      <th>Participation1</th>\n",
       "      <th>Mini_Exam1</th>\n",
       "      <th>Mini_Exam2</th>\n",
       "      <th>Participation2</th>\n",
       "      <th>Mini_Exam3</th>\n",
       "      <th>Final</th>\n",
       "      <th>Grade</th>\n",
       "      <th>Temp</th>\n",
       "    </tr>\n",
       "  </thead>\n",
       "  <tbody>\n",
       "    <tr>\n",
       "      <th>0</th>\n",
       "      <td>Jake</td>\n",
       "      <td>32.0</td>\n",
       "      <td>1</td>\n",
       "      <td>19.5</td>\n",
       "      <td>20</td>\n",
       "      <td>1</td>\n",
       "      <td>10.0</td>\n",
       "      <td>33.0</td>\n",
       "      <td>A</td>\n",
       "      <td>-1</td>\n",
       "    </tr>\n",
       "    <tr>\n",
       "      <th>1</th>\n",
       "      <td>Joe</td>\n",
       "      <td>NaN</td>\n",
       "      <td>1</td>\n",
       "      <td>20.0</td>\n",
       "      <td>16</td>\n",
       "      <td>1</td>\n",
       "      <td>14.0</td>\n",
       "      <td>32.0</td>\n",
       "      <td>A</td>\n",
       "      <td>23</td>\n",
       "    </tr>\n",
       "    <tr>\n",
       "      <th>2</th>\n",
       "      <td>Sol</td>\n",
       "      <td>31.0</td>\n",
       "      <td>1</td>\n",
       "      <td>22.0</td>\n",
       "      <td>13</td>\n",
       "      <td>1</td>\n",
       "      <td>13.0</td>\n",
       "      <td>34.0</td>\n",
       "      <td>A</td>\n",
       "      <td>34</td>\n",
       "    </tr>\n",
       "    <tr>\n",
       "      <th>3</th>\n",
       "      <td>Chris</td>\n",
       "      <td>30.0</td>\n",
       "      <td>-1</td>\n",
       "      <td>19.0</td>\n",
       "      <td>not available</td>\n",
       "      <td>1</td>\n",
       "      <td>12.5</td>\n",
       "      <td>33.5</td>\n",
       "      <td>A</td>\n",
       "      <td>72</td>\n",
       "    </tr>\n",
       "  </tbody>\n",
       "</table>\n",
       "</div>"
      ],
      "text/plain": [
       "    Name  Previous_Part  Participation1  Mini_Exam1     Mini_Exam2  \\\n",
       "0   Jake           32.0               1        19.5             20   \n",
       "1    Joe            NaN               1        20.0             16   \n",
       "2    Sol           31.0               1        22.0             13   \n",
       "3  Chris           30.0              -1        19.0  not available   \n",
       "\n",
       "   Participation2  Mini_Exam3  Final Grade  Temp  \n",
       "0               1        10.0   33.0     A    -1  \n",
       "1               1        14.0   32.0     A    23  \n",
       "2               1        13.0   34.0     A    34  \n",
       "3               1        12.5   33.5     A    72  "
      ]
     },
     "execution_count": 178,
     "metadata": {},
     "output_type": "execute_result"
    }
   ],
   "source": [
    "df_missing = pd.read_csv(\"Missing_Data.csv\")\n",
    "df_missing"
   ]
  },
  {
   "cell_type": "code",
   "execution_count": 179,
   "id": "056da2cd-b917-40ca-b3ff-39329098b79c",
   "metadata": {},
   "outputs": [
    {
     "data": {
      "text/plain": [
       "Name               object\n",
       "Previous_Part     float64\n",
       "Participation1      int64\n",
       "Mini_Exam1        float64\n",
       "Mini_Exam2         object\n",
       "Participation2      int64\n",
       "Mini_Exam3        float64\n",
       "Final             float64\n",
       "Grade              object\n",
       "Temp                int64\n",
       "dtype: object"
      ]
     },
     "execution_count": 179,
     "metadata": {},
     "output_type": "execute_result"
    }
   ],
   "source": [
    "df_missing.dtypes"
   ]
  },
  {
   "cell_type": "code",
   "execution_count": 183,
   "id": "ae6be086-8a33-4616-84ec-2393b6f716a5",
   "metadata": {},
   "outputs": [
    {
     "data": {
      "text/html": [
       "<div>\n",
       "<style scoped>\n",
       "    .dataframe tbody tr th:only-of-type {\n",
       "        vertical-align: middle;\n",
       "    }\n",
       "\n",
       "    .dataframe tbody tr th {\n",
       "        vertical-align: top;\n",
       "    }\n",
       "\n",
       "    .dataframe thead th {\n",
       "        text-align: right;\n",
       "    }\n",
       "</style>\n",
       "<table border=\"1\" class=\"dataframe\">\n",
       "  <thead>\n",
       "    <tr style=\"text-align: right;\">\n",
       "      <th></th>\n",
       "      <th>Name</th>\n",
       "      <th>Previous_Part</th>\n",
       "      <th>Participation1</th>\n",
       "      <th>Mini_Exam1</th>\n",
       "      <th>Mini_Exam2</th>\n",
       "      <th>Participation2</th>\n",
       "      <th>Mini_Exam3</th>\n",
       "      <th>Final</th>\n",
       "      <th>Grade</th>\n",
       "      <th>Temp</th>\n",
       "    </tr>\n",
       "  </thead>\n",
       "  <tbody>\n",
       "    <tr>\n",
       "      <th>0</th>\n",
       "      <td>Jake</td>\n",
       "      <td>32.0</td>\n",
       "      <td>1.0</td>\n",
       "      <td>19.5</td>\n",
       "      <td>20.0</td>\n",
       "      <td>1</td>\n",
       "      <td>10.0</td>\n",
       "      <td>33.0</td>\n",
       "      <td>A</td>\n",
       "      <td>NaN</td>\n",
       "    </tr>\n",
       "    <tr>\n",
       "      <th>1</th>\n",
       "      <td>Joe</td>\n",
       "      <td>NaN</td>\n",
       "      <td>1.0</td>\n",
       "      <td>20.0</td>\n",
       "      <td>16.0</td>\n",
       "      <td>1</td>\n",
       "      <td>14.0</td>\n",
       "      <td>32.0</td>\n",
       "      <td>A</td>\n",
       "      <td>23.0</td>\n",
       "    </tr>\n",
       "    <tr>\n",
       "      <th>2</th>\n",
       "      <td>Sol</td>\n",
       "      <td>31.0</td>\n",
       "      <td>1.0</td>\n",
       "      <td>22.0</td>\n",
       "      <td>13.0</td>\n",
       "      <td>1</td>\n",
       "      <td>13.0</td>\n",
       "      <td>34.0</td>\n",
       "      <td>A</td>\n",
       "      <td>34.0</td>\n",
       "    </tr>\n",
       "    <tr>\n",
       "      <th>3</th>\n",
       "      <td>Chris</td>\n",
       "      <td>30.0</td>\n",
       "      <td>NaN</td>\n",
       "      <td>19.0</td>\n",
       "      <td>NaN</td>\n",
       "      <td>1</td>\n",
       "      <td>12.5</td>\n",
       "      <td>33.5</td>\n",
       "      <td>A</td>\n",
       "      <td>72.0</td>\n",
       "    </tr>\n",
       "  </tbody>\n",
       "</table>\n",
       "</div>"
      ],
      "text/plain": [
       "    Name  Previous_Part  Participation1  Mini_Exam1  Mini_Exam2  \\\n",
       "0   Jake           32.0             1.0        19.5        20.0   \n",
       "1    Joe            NaN             1.0        20.0        16.0   \n",
       "2    Sol           31.0             1.0        22.0        13.0   \n",
       "3  Chris           30.0             NaN        19.0         NaN   \n",
       "\n",
       "   Participation2  Mini_Exam3  Final Grade  Temp  \n",
       "0               1        10.0   33.0     A   NaN  \n",
       "1               1        14.0   32.0     A  23.0  \n",
       "2               1        13.0   34.0     A  34.0  \n",
       "3               1        12.5   33.5     A  72.0  "
      ]
     },
     "execution_count": 183,
     "metadata": {},
     "output_type": "execute_result"
    }
   ],
   "source": [
    "#replace nan and not available with nan\n",
    "df_missing = pd.read_csv(\"Missing_Data.csv\", na_values = [\"NAN\",\"not available\",-1])\n",
    "df_missing"
   ]
  },
  {
   "cell_type": "code",
   "execution_count": 184,
   "id": "bc86969d-cfeb-4629-80bc-7131c9c13f15",
   "metadata": {},
   "outputs": [
    {
     "data": {
      "text/html": [
       "<div>\n",
       "<style scoped>\n",
       "    .dataframe tbody tr th:only-of-type {\n",
       "        vertical-align: middle;\n",
       "    }\n",
       "\n",
       "    .dataframe tbody tr th {\n",
       "        vertical-align: top;\n",
       "    }\n",
       "\n",
       "    .dataframe thead th {\n",
       "        text-align: right;\n",
       "    }\n",
       "</style>\n",
       "<table border=\"1\" class=\"dataframe\">\n",
       "  <thead>\n",
       "    <tr style=\"text-align: right;\">\n",
       "      <th></th>\n",
       "      <th>Name</th>\n",
       "      <th>Previous_Part</th>\n",
       "      <th>Participation1</th>\n",
       "      <th>Mini_Exam1</th>\n",
       "      <th>Mini_Exam2</th>\n",
       "      <th>Participation2</th>\n",
       "      <th>Mini_Exam3</th>\n",
       "      <th>Final</th>\n",
       "      <th>Grade</th>\n",
       "      <th>Temp</th>\n",
       "    </tr>\n",
       "  </thead>\n",
       "  <tbody>\n",
       "    <tr>\n",
       "      <th>0</th>\n",
       "      <td>False</td>\n",
       "      <td>False</td>\n",
       "      <td>False</td>\n",
       "      <td>False</td>\n",
       "      <td>False</td>\n",
       "      <td>False</td>\n",
       "      <td>False</td>\n",
       "      <td>False</td>\n",
       "      <td>False</td>\n",
       "      <td>True</td>\n",
       "    </tr>\n",
       "    <tr>\n",
       "      <th>1</th>\n",
       "      <td>False</td>\n",
       "      <td>True</td>\n",
       "      <td>False</td>\n",
       "      <td>False</td>\n",
       "      <td>False</td>\n",
       "      <td>False</td>\n",
       "      <td>False</td>\n",
       "      <td>False</td>\n",
       "      <td>False</td>\n",
       "      <td>False</td>\n",
       "    </tr>\n",
       "    <tr>\n",
       "      <th>2</th>\n",
       "      <td>False</td>\n",
       "      <td>False</td>\n",
       "      <td>False</td>\n",
       "      <td>False</td>\n",
       "      <td>False</td>\n",
       "      <td>False</td>\n",
       "      <td>False</td>\n",
       "      <td>False</td>\n",
       "      <td>False</td>\n",
       "      <td>False</td>\n",
       "    </tr>\n",
       "    <tr>\n",
       "      <th>3</th>\n",
       "      <td>False</td>\n",
       "      <td>False</td>\n",
       "      <td>True</td>\n",
       "      <td>False</td>\n",
       "      <td>True</td>\n",
       "      <td>False</td>\n",
       "      <td>False</td>\n",
       "      <td>False</td>\n",
       "      <td>False</td>\n",
       "      <td>False</td>\n",
       "    </tr>\n",
       "  </tbody>\n",
       "</table>\n",
       "</div>"
      ],
      "text/plain": [
       "    Name  Previous_Part  Participation1  Mini_Exam1  Mini_Exam2  \\\n",
       "0  False          False           False       False       False   \n",
       "1  False           True           False       False       False   \n",
       "2  False          False           False       False       False   \n",
       "3  False          False            True       False        True   \n",
       "\n",
       "   Participation2  Mini_Exam3  Final  Grade   Temp  \n",
       "0           False       False  False  False   True  \n",
       "1           False       False  False  False  False  \n",
       "2           False       False  False  False  False  \n",
       "3           False       False  False  False  False  "
      ]
     },
     "execution_count": 184,
     "metadata": {},
     "output_type": "execute_result"
    }
   ],
   "source": [
    "df_missing.isnull()"
   ]
  },
  {
   "cell_type": "code",
   "execution_count": 186,
   "id": "de183775-3e0e-4bc4-81fd-4441cc596140",
   "metadata": {},
   "outputs": [
    {
     "data": {
      "text/plain": [
       "Name              0\n",
       "Previous_Part     1\n",
       "Participation1    1\n",
       "Mini_Exam1        0\n",
       "Mini_Exam2        1\n",
       "Participation2    0\n",
       "Mini_Exam3        0\n",
       "Final             0\n",
       "Grade             0\n",
       "Temp              1\n",
       "dtype: int64"
      ]
     },
     "execution_count": 186,
     "metadata": {},
     "output_type": "execute_result"
    }
   ],
   "source": [
    "#Detect total missing values in each coulmn \n",
    "df_missing.isnull().sum()"
   ]
  },
  {
   "cell_type": "code",
   "execution_count": 189,
   "id": "7dbf6b39-3374-4fe7-b2e4-00be639c4770",
   "metadata": {},
   "outputs": [
    {
     "data": {
      "text/html": [
       "<div>\n",
       "<style scoped>\n",
       "    .dataframe tbody tr th:only-of-type {\n",
       "        vertical-align: middle;\n",
       "    }\n",
       "\n",
       "    .dataframe tbody tr th {\n",
       "        vertical-align: top;\n",
       "    }\n",
       "\n",
       "    .dataframe thead th {\n",
       "        text-align: right;\n",
       "    }\n",
       "</style>\n",
       "<table border=\"1\" class=\"dataframe\">\n",
       "  <thead>\n",
       "    <tr style=\"text-align: right;\">\n",
       "      <th></th>\n",
       "      <th>Name</th>\n",
       "      <th>Previous_Part</th>\n",
       "      <th>Participation1</th>\n",
       "      <th>Mini_Exam1</th>\n",
       "      <th>Mini_Exam2</th>\n",
       "      <th>Participation2</th>\n",
       "      <th>Mini_Exam3</th>\n",
       "      <th>Final</th>\n",
       "      <th>Grade</th>\n",
       "      <th>Temp</th>\n",
       "    </tr>\n",
       "  </thead>\n",
       "  <tbody>\n",
       "    <tr>\n",
       "      <th>2</th>\n",
       "      <td>Sol</td>\n",
       "      <td>31.0</td>\n",
       "      <td>1.0</td>\n",
       "      <td>22.0</td>\n",
       "      <td>13.0</td>\n",
       "      <td>1</td>\n",
       "      <td>13.0</td>\n",
       "      <td>34.0</td>\n",
       "      <td>A</td>\n",
       "      <td>34.0</td>\n",
       "    </tr>\n",
       "  </tbody>\n",
       "</table>\n",
       "</div>"
      ],
      "text/plain": [
       "  Name  Previous_Part  Participation1  Mini_Exam1  Mini_Exam2  Participation2  \\\n",
       "2  Sol           31.0             1.0        22.0        13.0               1   \n",
       "\n",
       "   Mini_Exam3  Final Grade  Temp  \n",
       "2        13.0   34.0     A  34.0  "
      ]
     },
     "execution_count": 189,
     "metadata": {},
     "output_type": "execute_result"
    }
   ],
   "source": [
    "#inplace false dont save the change \n",
    "df_missing.dropna(axis =0,inplace = False)"
   ]
  },
  {
   "cell_type": "code",
   "execution_count": 188,
   "id": "600624ea-66e9-47f9-9a80-329e3183058e",
   "metadata": {},
   "outputs": [
    {
     "data": {
      "text/html": [
       "<div>\n",
       "<style scoped>\n",
       "    .dataframe tbody tr th:only-of-type {\n",
       "        vertical-align: middle;\n",
       "    }\n",
       "\n",
       "    .dataframe tbody tr th {\n",
       "        vertical-align: top;\n",
       "    }\n",
       "\n",
       "    .dataframe thead th {\n",
       "        text-align: right;\n",
       "    }\n",
       "</style>\n",
       "<table border=\"1\" class=\"dataframe\">\n",
       "  <thead>\n",
       "    <tr style=\"text-align: right;\">\n",
       "      <th></th>\n",
       "      <th>Name</th>\n",
       "      <th>Previous_Part</th>\n",
       "      <th>Participation1</th>\n",
       "      <th>Mini_Exam1</th>\n",
       "      <th>Mini_Exam2</th>\n",
       "      <th>Participation2</th>\n",
       "      <th>Mini_Exam3</th>\n",
       "      <th>Final</th>\n",
       "      <th>Grade</th>\n",
       "      <th>Temp</th>\n",
       "    </tr>\n",
       "  </thead>\n",
       "  <tbody>\n",
       "    <tr>\n",
       "      <th>0</th>\n",
       "      <td>Jake</td>\n",
       "      <td>32.0</td>\n",
       "      <td>1.0</td>\n",
       "      <td>19.5</td>\n",
       "      <td>20.0</td>\n",
       "      <td>1</td>\n",
       "      <td>10.0</td>\n",
       "      <td>33.0</td>\n",
       "      <td>A</td>\n",
       "      <td>NaN</td>\n",
       "    </tr>\n",
       "    <tr>\n",
       "      <th>1</th>\n",
       "      <td>Joe</td>\n",
       "      <td>NaN</td>\n",
       "      <td>1.0</td>\n",
       "      <td>20.0</td>\n",
       "      <td>16.0</td>\n",
       "      <td>1</td>\n",
       "      <td>14.0</td>\n",
       "      <td>32.0</td>\n",
       "      <td>A</td>\n",
       "      <td>23.0</td>\n",
       "    </tr>\n",
       "    <tr>\n",
       "      <th>2</th>\n",
       "      <td>Sol</td>\n",
       "      <td>31.0</td>\n",
       "      <td>1.0</td>\n",
       "      <td>22.0</td>\n",
       "      <td>13.0</td>\n",
       "      <td>1</td>\n",
       "      <td>13.0</td>\n",
       "      <td>34.0</td>\n",
       "      <td>A</td>\n",
       "      <td>34.0</td>\n",
       "    </tr>\n",
       "    <tr>\n",
       "      <th>3</th>\n",
       "      <td>Chris</td>\n",
       "      <td>30.0</td>\n",
       "      <td>NaN</td>\n",
       "      <td>19.0</td>\n",
       "      <td>NaN</td>\n",
       "      <td>1</td>\n",
       "      <td>12.5</td>\n",
       "      <td>33.5</td>\n",
       "      <td>A</td>\n",
       "      <td>72.0</td>\n",
       "    </tr>\n",
       "  </tbody>\n",
       "</table>\n",
       "</div>"
      ],
      "text/plain": [
       "    Name  Previous_Part  Participation1  Mini_Exam1  Mini_Exam2  \\\n",
       "0   Jake           32.0             1.0        19.5        20.0   \n",
       "1    Joe            NaN             1.0        20.0        16.0   \n",
       "2    Sol           31.0             1.0        22.0        13.0   \n",
       "3  Chris           30.0             NaN        19.0         NaN   \n",
       "\n",
       "   Participation2  Mini_Exam3  Final Grade  Temp  \n",
       "0               1        10.0   33.0     A   NaN  \n",
       "1               1        14.0   32.0     A  23.0  \n",
       "2               1        13.0   34.0     A  34.0  \n",
       "3               1        12.5   33.5     A  72.0  "
      ]
     },
     "execution_count": 188,
     "metadata": {},
     "output_type": "execute_result"
    }
   ],
   "source": [
    "df_missing"
   ]
  },
  {
   "cell_type": "code",
   "execution_count": null,
   "id": "4ab7a5fa-e0de-4c5d-b926-451871625274",
   "metadata": {},
   "outputs": [],
   "source": []
  }
 ],
 "metadata": {
  "kernelspec": {
   "display_name": "Python 3 (ipykernel)",
   "language": "python",
   "name": "python3"
  },
  "language_info": {
   "codemirror_mode": {
    "name": "ipython",
    "version": 3
   },
   "file_extension": ".py",
   "mimetype": "text/x-python",
   "name": "python",
   "nbconvert_exporter": "python",
   "pygments_lexer": "ipython3",
   "version": "3.12.7"
  }
 },
 "nbformat": 4,
 "nbformat_minor": 5
}
