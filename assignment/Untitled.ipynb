{
 "cells": [
  {
   "cell_type": "code",
   "execution_count": 3,
   "id": "da4dfb9d-5814-4e63-9300-9b721c52227f",
   "metadata": {},
   "outputs": [],
   "source": [
    "from bs4 import BeautifulSoup\n",
    "import requests\n",
    "import csv"
   ]
  },
  {
   "cell_type": "code",
   "execution_count": 5,
   "id": "c83180c6-177e-4320-a06c-2ced650e93f4",
   "metadata": {},
   "outputs": [
    {
     "name": "stdout",
     "output_type": "stream",
     "text": [
      "<!DOCTYPE html>\n",
      "\n",
      "<html>\n",
      "\n",
      "    <head>\n",
      "        <title>Web Scraping Task with Form</title>\n",
      "\n",
      "         <style>\n",
      "        body {\n",
      "            font-family: Arial, sans-serif;\n",
      "            margin: 20px;\n",
      "            background-color: #f5f5f5;\n",
      "        }\n",
      "\n",
      "        h1 {\n",
      "            color: darkred;\n",
      "            text-align: center;\n",
      "        }\n",
      "\n",
      "        h2 {\n",
      "            color: darkblue;\n",
      "            font-style: italic;\n",
      "        }\n",
      "\n",
      "        p {\n",
      "            color: #555;\n",
      "            font-size: 14px;\n",
      "        }\n",
      "\n",
      "        img {\n",
      "            width: 250px;\n",
      "            height: auto;\n",
      "            border-radius: 10px;\n",
      "        }\n",
      "\n",
      "        table {\n",
      "            width: 100%;\n",
      "            border-collapse: collapse;\n",
      "            margin: 20px 0;\n",
      "        }\n",
      "\n",
      "        table, th, td {\n",
      "            border: 1px solid #ccc;\n",
      "        }\n",
      "\n",
      "        th {\n",
      "            background-color: #333;\n",
      "            color: white;\n",
      "            padding: 10px;\n",
      "        }\n",
      "\n",
      "        td {\n",
      "            text-align: center;\n",
      "            padding: 10px;\n",
      "        }\n",
      "\n",
      "        .btn {\n",
      "            background-color: darkgreen;\n",
      "            color: white;\n",
      "            border: none;\n",
      "            padding: 10px 20px;\n",
      "            cursor: pointer;\n",
      "            text-transform: uppercase;\n",
      "            font-weight: bold;\n",
      "        }\n",
      "\n",
      "        .btn:hover {\n",
      "            background-color: green;\n",
      "        }\n",
      "\n",
      "        ul {\n",
      "            list-style-type: square;\n",
      "        }\n",
      "\n",
      "        iframe {\n",
      "            display: block;\n",
      "            margin: 20px auto;\n",
      "            border: none;\n",
      "        }\n",
      "\n",
      "        .footer {\n",
      "            background-color: #333;\n",
      "            color: white;\n",
      "            text-align: center;\n",
      "            padding: 10px 0;\n",
      "            margin-top: 30px;\n",
      "        }\n",
      "\n",
      "        .highlight {\n",
      "            background-color: yellow;\n",
      "            font-weight: bold;\n",
      "        }\n",
      "\n",
      "        form {\n",
      "            margin: 20px 0;\n",
      "            background-color: #fff;\n",
      "            padding: 20px;\n",
      "            border: 1px solid #ccc;\n",
      "            border-radius: 5px;\n",
      "        }\n",
      "\n",
      "        form input, form select, form button {\n",
      "            display: block;\n",
      "            margin: 10px 0;\n",
      "            padding: 10px;\n",
      "            width: 100%;\n",
      "            max-width: 400px;\n",
      "            border: 1px solid #ccc;\n",
      "            border-radius: 5px;\n",
      "        }\n",
      "\n",
      "        .products {\n",
      "            display: flex;\n",
      "            flex-wrap: wrap;\n",
      "            justify-content: center;\n",
      "            gap: 20px;\n",
      "            margin-top: 30px;\n",
      "        }\n",
      "\n",
      "        .product-card {\n",
      "            width: 250px;\n",
      "            border: 1px solid #ddd;\n",
      "            border-radius: 8px;\n",
      "            background-color: #fff;\n",
      "            box-shadow: 0 4px 6px rgba(0, 0, 0, 0.1);\n",
      "            text-align: center;\n",
      "            overflow: hidden;\n",
      "            transition: transform 0.3s ease, box-shadow 0.3s ease;\n",
      "        }\n",
      "\n",
      "        .product-card:hover {\n",
      "            transform: translateY(-5px);\n",
      "            box-shadow: 0 8px 12px rgba(0, 0, 0, 0.2);\n",
      "        }\n",
      "\n",
      "        .product-card img {\n",
      "            width: 100%;\n",
      "            height: 150px;\n",
      "            object-fit: cover;\n",
      "        }\n",
      "\n",
      "        .product-card .name {\n",
      "            font-size: 18px;\n",
      "            font-weight: bold;\n",
      "            margin: 15px 0 5px;\n",
      "            color: #333;\n",
      "        }\n",
      "\n",
      "        .product-card .price {\n",
      "            font-size: 16px;\n",
      "            color: #28a745;\n",
      "            margin: 5px 0;\n",
      "        }\n",
      "\n",
      "        .product-card .colors {\n",
      "            font-size: 14px;\n",
      "            color: #666;\n",
      "            margin-bottom: 15px;\n",
      "        }\n",
      "\n",
      "        .product-card button {\n",
      "            background-color: #007bff;\n",
      "            color: white;\n",
      "            border: none;\n",
      "            padding: 10px 20px;\n",
      "            margin: 10px 0;\n",
      "            cursor: pointer;\n",
      "            border-radius: 5px;\n",
      "            font-size: 14px;\n",
      "            transition: background-color 0.3s ease;\n",
      "        }\n",
      "\n",
      "        .product-card button:hover {\n",
      "            background-color: #0056b3;\n",
      "        }\n",
      "    </style>\n",
      "    </head>\n",
      "\n",
      "    <body>\n",
      "        <h1>Web Scraping Practice</h1>\n",
      "        <p>Welcome to the web scraping task! Use your skills to extract the required data from this page.</p>\n",
      "\n",
      "        <h2>Available Products</h2>\n",
      "        <ul>\n",
      "            <li class=\"highlight\">Laptop</li>\n",
      "            <li>Smartphone</li>\n",
      "            <li>Tablet</li>\n",
      "            <li>Smartwatch</li>\n",
      "        </ul>\n",
      "\n",
      "        <h2>Product Table</h2>\n",
      "        <table>\n",
      "            <tr>\n",
      "                <th>Product</th>\n",
      "                <th>Price</th>\n",
      "                <th>In Stock</th>\n",
      "            </tr>\n",
      "            <tr>\n",
      "                <td>Laptop</td>\n",
      "                <td>$1000</td>\n",
      "                <td>Yes</td>\n",
      "            </tr>\n",
      "            <tr>\n",
      "                <td>Smartphone</td>\n",
      "                <td>$800</td>\n",
      "                <td>No</td>\n",
      "            </tr>\n",
      "            <tr>\n",
      "                <td>Tablet</td>\n",
      "                <td>$500</td>\n",
      "                <td>Yes</td>\n",
      "            </tr>\n",
      "        </table>\n",
      "\n",
      "        <h2>Watch This Video</h2>\n",
      "        <iframe width=\"560\" height=\"315\" src=\"https://www.youtube.com/watch?v=ujf9RNuBdCU\"></iframe>\n",
      "        \n",
      "        \n",
      "\n",
      "        \n",
      "        <h2>Contact Us</h2>\n",
      "        <form>\n",
      "            <label for=\"username\">Username:</label>\n",
      "            <input type=\"text\" id=\"username\" name=\"username\" placeholder=\"Enter your username\">\n",
      "\n",
      "            <label for=\"password\">Password:</label>\n",
      "            <input type=\"password\" id=\"password\" name=\"password\" placeholder=\"Enter your password\">\n",
      "\n",
      "            <label for=\"options\">Choose an option:</label>\n",
      "            <select id=\"options\" name=\"options\">\n",
      "                <option value=\"option1\">Option 1</option>\n",
      "                <option value=\"option2\">Option 2</option>\n",
      "                <option value=\"option3\">Option 3</option>\n",
      "            </select>\n",
      "\n",
      "            <label>\n",
      "                <input type=\"checkbox\" name=\"terms\"> I agree to the terms and conditions\n",
      "            </label>\n",
      "\n",
      "            <input type=\"submit\" value=\"Submit\">\n",
      "        </form>\n",
      "\n",
      "<h2>Product Information</h2>\n",
      "<div style=\"display: flex; justify-content: space-around; margin-top: 20px;\">\n",
      "    <div style=\"text-align: center; width: 200px; border: 1px solid #ddd; padding: 10px; border-radius: 5px;\">\n",
      "        <img src=\"book1.jpg\" alt=\"Sharp Objects\" style=\"width: 100%; height: auto; border-radius: 5px;\">\n",
      "        <p><strong>Sharp Objects</strong></p>\n",
      "        <p style=\"color: green;\">£47.82</p>\n",
      "        <p style=\"color: green;\">✔ In stock</p>\n",
      "        <button style=\"background-color: blue; color: white; border: none; padding: 10px 15px; border-radius: 5px; cursor: pointer;\">Add to basket</button>\n",
      "    </div>\n",
      "\n",
      "    <div style=\"text-align: center; width: 200px; border: 1px solid #ddd; padding: 10px; border-radius: 5px;\">\n",
      "        <img src=\"book2.jpg\" alt=\"In a Dark, Dark Wood\" style=\"width: 100%; height: auto; border-radius: 5px;\">\n",
      "        <p><strong>In a Dark, Dark Wood</strong></p>\n",
      "        <p style=\"color: green;\">£19.63</p>\n",
      "        <p style=\"color: green;\">✔ In stock</p>\n",
      "        <button style=\"background-color: blue; color: white; border: none; padding: 10px 15px; border-radius: 5px; cursor: pointer;\">Add to basket</button>\n",
      "    </div>\n",
      "\n",
      "    <div style=\"text-align: center; width: 200px; border: 1px solid #ddd; padding: 10px; border-radius: 5px;\">\n",
      "        <img href=\"http://books.toscrape.com/media/cache/c0/59/c05972805aa7201171b8fc71a5b00292.jpg\" alt=\"The Past Never Ends\" style=\"width: 100%; height: auto; border-radius: 5px;\">\n",
      "        <p><strong>The Past Never Ends</strong></p>\n",
      "        <p style=\"color: green;\">£56.50</p>\n",
      "        <p style=\"color: green;\">✔ In stock</p>\n",
      "        <button style=\"background-color: blue; color: white; border: none; padding: 10px 15px; border-radius: 5px; cursor: pointer;\">Add to basket</button>\n",
      "    </div>\n",
      "\n",
      "    <div style=\"text-align: center; width: 200px; border: 1px solid #ddd; padding: 10px; border-radius: 5px;\">\n",
      "        <img src=\"book4.jpg\" alt=\"A Murder in Time\" style=\"width: 100%; height: auto; border-radius: 5px;\">\n",
      "        <p><strong>A Murder in Time</strong></p>\n",
      "        <p style=\"color: green;\">£16.64</p>\n",
      "        <p style=\"color: green;\"> Out stock</p>\n",
      "        <button style=\"background-color: blue; color: white; border: none; padding: 10px 15px; border-radius: 5px; cursor: pointer;\">Add to basket</button>\n",
      "    </div>\n",
      "</div>\n",
      "\n",
      "    \n",
      "\n",
      "    <h2>Featured Products</h2>\n",
      "    <div class=\"products\">\n",
      "        <div class=\"product-card\" data-id=\"101\">\n",
      "            <img src=\"https://via.placeholder.com/250x150?text=Product+1\" alt=\"Wireless Headphones\">\n",
      "            <p class=\"name\">Wireless Headphones</p>\n",
      "            <p class=\"price\" style=\"display: none;\">$49.99</p>\n",
      "            <p class=\"colors\">Available colors: Black, White, Blue</p>\n",
      "            <button>Add to Basket</button>\n",
      "        </div>\n",
      "        <div class=\"product-card\" data-id=\"102\">\n",
      "            <img src=\"https://via.placeholder.com/250x150?text=Product+2\" alt=\"Smart Speaker\">\n",
      "            <p class=\"name\">Smart Speaker</p>\n",
      "            <p class=\"price\" style=\"display: none;\">$89.99</p>\n",
      "            <p class=\"colors\">Available colors: Grey, Black</p>\n",
      "            <button>Add to Basket</button>\n",
      "        </div>\n",
      "        <div class=\"product-card\" data-id=\"103\">\n",
      "            <img src=\"https://via.placeholder.com/250x150?text=Product+3\" alt=\"Smart Watch\">\n",
      "            <p class=\"name\">Smart Watch</p>\n",
      "            <p class=\"price\" style=\"display: none;\">$149.99</p>\n",
      "            <p class=\"colors\">Available colors: Black, Silver, Gold</p>\n",
      "            <button>Add to Basket</button>\n",
      "        </div>\n",
      "    </div>\n",
      "\n",
      "    <div class=\"footer\">\n",
      "            <p>&copy; 2024 Web Scraping Practice. All Rights Reserved.</p>\n",
      "        </div>\n",
      "    </body>\n",
      "</html>\n",
      "\n"
     ]
    }
   ],
   "source": [
    "url = 'https://www.baraasallout.com/test.html'\n",
    "response = requests.get(url)\n",
    "print(response.text)"
   ]
  },
  {
   "cell_type": "code",
   "execution_count": 7,
   "id": "fffb8822-8bbc-4cfd-9704-c8d27c581a15",
   "metadata": {},
   "outputs": [],
   "source": [
    "soup = BeautifulSoup(response.text, 'html.parser')"
   ]
  },
  {
   "cell_type": "code",
   "execution_count": 9,
   "id": "fc901ea1-8f9a-46f8-8aaa-fee016c27bf6",
   "metadata": {},
   "outputs": [
    {
     "data": {
      "text/plain": [
       "[<h1>Web Scraping Practice</h1>]"
      ]
     },
     "execution_count": 9,
     "metadata": {},
     "output_type": "execute_result"
    }
   ],
   "source": [
    "headers_1 = soup.find_all('h1')\n",
    "headers_1"
   ]
  },
  {
   "cell_type": "code",
   "execution_count": 11,
   "id": "af692948-5378-4ead-ab3c-d350903e52b4",
   "metadata": {},
   "outputs": [
    {
     "data": {
      "text/plain": [
       "[<h2>Available Products</h2>,\n",
       " <h2>Product Table</h2>,\n",
       " <h2>Watch This Video</h2>,\n",
       " <h2>Contact Us</h2>,\n",
       " <h2>Product Information</h2>,\n",
       " <h2>Featured Products</h2>]"
      ]
     },
     "execution_count": 11,
     "metadata": {},
     "output_type": "execute_result"
    }
   ],
   "source": [
    "headers_2 = soup.find_all('h2')\n",
    "headers_2"
   ]
  },
  {
   "cell_type": "code",
   "execution_count": 13,
   "id": "b65060e3-f001-4d56-b231-aa435b7b4bb1",
   "metadata": {},
   "outputs": [
    {
     "data": {
      "text/plain": [
       "[<p>Welcome to the web scraping task! Use your skills to extract the required data from this page.</p>,\n",
       " <p><strong>Sharp Objects</strong></p>,\n",
       " <p style=\"color: green;\">£47.82</p>,\n",
       " <p style=\"color: green;\">✔ In stock</p>,\n",
       " <p><strong>In a Dark, Dark Wood</strong></p>,\n",
       " <p style=\"color: green;\">£19.63</p>,\n",
       " <p style=\"color: green;\">✔ In stock</p>,\n",
       " <p><strong>The Past Never Ends</strong></p>,\n",
       " <p style=\"color: green;\">£56.50</p>,\n",
       " <p style=\"color: green;\">✔ In stock</p>,\n",
       " <p><strong>A Murder in Time</strong></p>,\n",
       " <p style=\"color: green;\">£16.64</p>,\n",
       " <p style=\"color: green;\"> Out stock</p>,\n",
       " <p class=\"name\">Wireless Headphones</p>,\n",
       " <p class=\"price\" style=\"display: none;\">$49.99</p>,\n",
       " <p class=\"colors\">Available colors: Black, White, Blue</p>,\n",
       " <p class=\"name\">Smart Speaker</p>,\n",
       " <p class=\"price\" style=\"display: none;\">$89.99</p>,\n",
       " <p class=\"colors\">Available colors: Grey, Black</p>,\n",
       " <p class=\"name\">Smart Watch</p>,\n",
       " <p class=\"price\" style=\"display: none;\">$149.99</p>,\n",
       " <p class=\"colors\">Available colors: Black, Silver, Gold</p>,\n",
       " <p>© 2024 Web Scraping Practice. All Rights Reserved.</p>]"
      ]
     },
     "execution_count": 13,
     "metadata": {},
     "output_type": "execute_result"
    }
   ],
   "source": [
    "all_p = soup.find_all('p')\n",
    "all_p"
   ]
  },
  {
   "cell_type": "code",
   "execution_count": 15,
   "id": "d90e1887-ee24-4fb8-8dc9-1f56776d9d23",
   "metadata": {},
   "outputs": [
    {
     "data": {
      "text/plain": [
       "[<li class=\"highlight\">Laptop</li>,\n",
       " <li>Smartphone</li>,\n",
       " <li>Tablet</li>,\n",
       " <li>Smartwatch</li>]"
      ]
     },
     "execution_count": 15,
     "metadata": {},
     "output_type": "execute_result"
    }
   ],
   "source": [
    "all_li = soup.find_all('li')\n",
    "all_li"
   ]
  },
  {
   "cell_type": "code",
   "execution_count": 17,
   "id": "46b0aab4-bf7b-4091-a198-91155fa4279c",
   "metadata": {},
   "outputs": [],
   "source": [
    "with open('Extracted_Data.csv', 'w', encoding='UTF8', newline='') as f:\n",
    "        writer = csv.writer(f)\n",
    "      \n",
    "    \n",
    "\n",
    "        # Write data to CSV\n",
    "        writer.writerows([[\"Header 1\", text] for text in headers_1])\n",
    "        writer.writerows([[\"Header 2\", text] for text in headers_2])\n",
    "        writer.writerows([[\"Paragraph\", text] for text in all_p])\n",
    "        writer.writerows([[\"List Item\", text] for text in all_li])"
   ]
  },
  {
   "cell_type": "code",
   "execution_count": 19,
   "id": "ab1992ab-7888-4609-96ce-4aaac9dd3ce0",
   "metadata": {},
   "outputs": [
    {
     "data": {
      "text/plain": [
       "'D:\\\\1-Course\\\\tech\\\\7-Web Scraping'"
      ]
     },
     "execution_count": 19,
     "metadata": {},
     "output_type": "execute_result"
    }
   ],
   "source": [
    "pwd"
   ]
  },
  {
   "cell_type": "code",
   "execution_count": 21,
   "id": "2a290559-cdd1-407e-91a7-7a373fd38c1d",
   "metadata": {},
   "outputs": [
    {
     "data": {
      "text/plain": [
       "[<table>\n",
       " <tr>\n",
       " <th>Product</th>\n",
       " <th>Price</th>\n",
       " <th>In Stock</th>\n",
       " </tr>\n",
       " <tr>\n",
       " <td>Laptop</td>\n",
       " <td>$1000</td>\n",
       " <td>Yes</td>\n",
       " </tr>\n",
       " <tr>\n",
       " <td>Smartphone</td>\n",
       " <td>$800</td>\n",
       " <td>No</td>\n",
       " </tr>\n",
       " <tr>\n",
       " <td>Tablet</td>\n",
       " <td>$500</td>\n",
       " <td>Yes</td>\n",
       " </tr>\n",
       " </table>]"
      ]
     },
     "execution_count": 21,
     "metadata": {},
     "output_type": "execute_result"
    }
   ],
   "source": [
    "tables = soup.find_all('table')\n",
    "tables"
   ]
  },
  {
   "cell_type": "code",
   "execution_count": 23,
   "id": "f9d94434-4d66-4363-bfc4-4985f3337fe3",
   "metadata": {},
   "outputs": [
    {
     "data": {
      "text/plain": [
       "[<th>Product</th>, <th>Price</th>, <th>In Stock</th>]"
      ]
     },
     "execution_count": 23,
     "metadata": {},
     "output_type": "execute_result"
    }
   ],
   "source": [
    "all_th = soup.find_all('th')\n",
    "all_th"
   ]
  },
  {
   "cell_type": "code",
   "execution_count": 25,
   "id": "04013706-fdfc-4beb-9ed7-b5f27ec55215",
   "metadata": {},
   "outputs": [
    {
     "data": {
      "text/plain": [
       "[<td>Laptop</td>,\n",
       " <td>$1000</td>,\n",
       " <td>Yes</td>,\n",
       " <td>Smartphone</td>,\n",
       " <td>$800</td>,\n",
       " <td>No</td>,\n",
       " <td>Tablet</td>,\n",
       " <td>$500</td>,\n",
       " <td>Yes</td>]"
      ]
     },
     "execution_count": 25,
     "metadata": {},
     "output_type": "execute_result"
    }
   ],
   "source": [
    "all_td = soup.find_all('td')\n",
    "all_td"
   ]
  },
  {
   "cell_type": "code",
   "execution_count": null,
   "id": "ba724e41-09e6-4936-8ef3-47e9d78a204a",
   "metadata": {},
   "outputs": [],
   "source": []
  },
  {
   "cell_type": "code",
   "execution_count": 29,
   "id": "709e72e1-168a-41e6-8b52-caa5e902626d",
   "metadata": {},
   "outputs": [],
   "source": [
    "table = soup.find('table')\n",
    "rows = table.find_all('tr')\n",
    "\n",
    "\n",
    "data = []\n",
    "headers = [header.text.strip() for header in rows[0].find_all('th')]\n",
    "data.append(headers)\n",
    "\n",
    "for row in rows[1:]:\n",
    "    cols = [col.text.strip() for col in row.find_all('td')]\n",
    "    data.append(cols)\n",
    "\n",
    "# Write to CSV\n",
    "with open('Extract_Table_Data.csv', 'w', newline='', encoding='utf-8') as file:\n",
    "    writer = csv.writer(file)\n",
    "    writer.writerows(data)\n"
   ]
  },
  {
   "cell_type": "code",
   "execution_count": 34,
   "id": "4b246ed7-2e8d-4889-8de1-bbf63d3378c9",
   "metadata": {},
   "outputs": [],
   "source": [
    "product_cards = soup.find_all('div', class_='card')\n",
    "product_data = []\n",
    "\n",
    "for card in product_cards:\n",
    "    title = card.find('h5', class_='card-title').text.strip()\n",
    "    price = card.find('span', class_='card-price').text.strip()\n",
    "    availability = card.find('span', class_='card-stock').text.strip()\n",
    "    button_text = card.find('button').text.strip()\n",
    "\n",
    "    product_data.append({\n",
    "        'Book Title': title,\n",
    "        'Price': price,\n",
    "        'Stock Availability': availability,\n",
    "        'Button Text': button_text\n",
    "    })\n",
    "\n",
    "# Write to JSON file\n",
    "with open('Product_Information.json', 'w', encoding='utf-8') as file:\n",
    "    json.dump(product_data, file, indent=4)"
   ]
  },
  {
   "cell_type": "code",
   "execution_count": 37,
   "id": "8b01e620-1ec3-433a-adae-3d5fbc157cb3",
   "metadata": {},
   "outputs": [],
   "source": [
    "form = soup.find('form')\n",
    "inputs = form.find_all('input')\n",
    "\n",
    "form_details = []\n",
    "for input_field in inputs:\n",
    "    field_name = input_field.get('name', 'N/A')\n",
    "    input_type = input_field.get('type', 'text')\n",
    "    default_value = input_field.get('value', '')\n",
    "\n",
    "    form_details.append({\n",
    "        'Field Name': field_name,\n",
    "        'Input Type': input_type,\n",
    "        'Default Value': default_value\n",
    "    })\n",
    "\n",
    "# Write to JSON file\n",
    "with open('Form_Details.json', 'w', encoding='utf-8') as file:\n",
    "    json.dump(form_details, file, indent=4)"
   ]
  },
  {
   "cell_type": "code",
   "execution_count": 48,
   "id": "af7530bf-a2f2-4217-bba5-c127d9e8ba29",
   "metadata": {},
   "outputs": [
    {
     "data": {
      "text/plain": [
       "[]"
      ]
     },
     "execution_count": 48,
     "metadata": {},
     "output_type": "execute_result"
    }
   ],
   "source": [
    "links = soup.find_all('a')\n",
    "links\n",
    "\n",
    "\n"
   ]
  },
  {
   "cell_type": "code",
   "execution_count": 55,
   "id": "4307e7f4-780e-4f89-9ecd-50582dab3450",
   "metadata": {},
   "outputs": [],
   "source": [
    "first_link = soup.find('a')\n",
    "first_link"
   ]
  },
  {
   "cell_type": "code",
   "execution_count": 57,
   "id": "6bd769cb-ab09-4852-801f-76c6645f1a67",
   "metadata": {},
   "outputs": [],
   "source": [
    "# Write to JSON file\n",
    "with open('Links_and_Multimedia.json', 'w', encoding='utf-8') as file:\n",
    "    json.dump(media_data, file, indent=4)"
   ]
  }
 ],
 "metadata": {
  "kernelspec": {
   "display_name": "Python 3 (ipykernel)",
   "language": "python",
   "name": "python3"
  },
  "language_info": {
   "codemirror_mode": {
    "name": "ipython",
    "version": 3
   },
   "file_extension": ".py",
   "mimetype": "text/x-python",
   "name": "python",
   "nbconvert_exporter": "python",
   "pygments_lexer": "ipython3",
   "version": "3.12.4"
  }
 },
 "nbformat": 4,
 "nbformat_minor": 5
}
